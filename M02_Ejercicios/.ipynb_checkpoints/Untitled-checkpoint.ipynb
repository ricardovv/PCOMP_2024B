{
 "cells": [
  {
   "cell_type": "code",
   "execution_count": 2,
   "id": "2e9f10b1-0a29-4206-a270-791fbb0c7f6c",
   "metadata": {},
   "outputs": [
    {
     "name": "stdout",
     "output_type": "stream",
     "text": [
      "pygame 2.6.1 (SDL 2.28.4, Python 3.9.13)\n",
      "Hello from the pygame community. https://www.pygame.org/contribute.html\n"
     ]
    }
   ],
   "source": [
    "# C Sonido. \n",
    "import pygame\n",
    "import time\n"
   ]
  },
  {
   "cell_type": "code",
   "execution_count": 5,
   "id": "b6940e4d-b081-4146-a75a-07c52243da99",
   "metadata": {},
   "outputs": [
    {
     "ename": "FileNotFoundError",
     "evalue": "No file 'snd/E-HiHat 3 Open440.wav' found in working directory '/Users/ricardov/Desktop/2024_rv/01_UC_Diseno_2024/00_UC_PComp_2024B/10_PCOMP_Repo/PCOMP_2024B_repo/M02_Ejercicios'.",
     "output_type": "error",
     "traceback": [
      "\u001b[0;31m---------------------------------------------------------------------------\u001b[0m",
      "\u001b[0;31mFileNotFoundError\u001b[0m                         Traceback (most recent call last)",
      "\u001b[0;32m/var/folders/7r/btknwd8d1r7_jgpscdy1z77h0000gn/T/ipykernel_3395/3032159473.py\u001b[0m in \u001b[0;36m<module>\u001b[0;34m\u001b[0m\n\u001b[1;32m     14\u001b[0m     \u001b[0mduracion\u001b[0m \u001b[0;34m=\u001b[0m \u001b[0;36m2\u001b[0m      \u001b[0;31m# Duración en segundos\u001b[0m\u001b[0;34m\u001b[0m\u001b[0;34m\u001b[0m\u001b[0m\n\u001b[1;32m     15\u001b[0m \u001b[0;34m\u001b[0m\u001b[0m\n\u001b[0;32m---> 16\u001b[0;31m     \u001b[0mgenerar_tono\u001b[0m\u001b[0;34m(\u001b[0m\u001b[0mfrecuencia\u001b[0m\u001b[0;34m,\u001b[0m \u001b[0mduracion\u001b[0m\u001b[0;34m)\u001b[0m\u001b[0;34m\u001b[0m\u001b[0;34m\u001b[0m\u001b[0m\n\u001b[0m\u001b[1;32m     17\u001b[0m \u001b[0;34m\u001b[0m\u001b[0m\n",
      "\u001b[0;32m/var/folders/7r/btknwd8d1r7_jgpscdy1z77h0000gn/T/ipykernel_3395/3032159473.py\u001b[0m in \u001b[0;36mgenerar_tono\u001b[0;34m(frecuencia, duracion)\u001b[0m\n\u001b[1;32m      3\u001b[0m     \u001b[0mpygame\u001b[0m\u001b[0;34m.\u001b[0m\u001b[0mmixer\u001b[0m\u001b[0;34m.\u001b[0m\u001b[0mmusic\u001b[0m\u001b[0;34m.\u001b[0m\u001b[0mset_volume\u001b[0m\u001b[0;34m(\u001b[0m\u001b[0;36m1.0\u001b[0m\u001b[0;34m)\u001b[0m\u001b[0;34m\u001b[0m\u001b[0;34m\u001b[0m\u001b[0m\n\u001b[1;32m      4\u001b[0m \u001b[0;31m#    nota = pygame.mixer.Sound(f\"square_wave_{frecuencia}.wav\")\u001b[0m\u001b[0;34m\u001b[0m\u001b[0;34m\u001b[0m\u001b[0m\n\u001b[0;32m----> 5\u001b[0;31m     \u001b[0mnota\u001b[0m \u001b[0;34m=\u001b[0m \u001b[0mpygame\u001b[0m\u001b[0;34m.\u001b[0m\u001b[0mmixer\u001b[0m\u001b[0;34m.\u001b[0m\u001b[0mSound\u001b[0m\u001b[0;34m(\u001b[0m\u001b[0;34mf\"snd/E-HiHat 3 Open{frecuencia}.wav\"\u001b[0m\u001b[0;34m)\u001b[0m\u001b[0;34m\u001b[0m\u001b[0;34m\u001b[0m\u001b[0m\n\u001b[0m\u001b[1;32m      6\u001b[0m \u001b[0;34m\u001b[0m\u001b[0m\n\u001b[1;32m      7\u001b[0m     \u001b[0mgato01\u001b[0m\u001b[0;34m.\u001b[0m\u001b[0mmp3\u001b[0m\u001b[0;34m\u001b[0m\u001b[0;34m\u001b[0m\u001b[0m\n",
      "\u001b[0;31mFileNotFoundError\u001b[0m: No file 'snd/E-HiHat 3 Open440.wav' found in working directory '/Users/ricardov/Desktop/2024_rv/01_UC_Diseno_2024/00_UC_PComp_2024B/10_PCOMP_Repo/PCOMP_2024B_repo/M02_Ejercicios'."
     ]
    }
   ],
   "source": [
    "\n",
    "def generar_tono(frecuencia, duracion):\n",
    "    pygame.mixer.init()\n",
    "    pygame.mixer.music.set_volume(1.0)\n",
    "#    nota = pygame.mixer.Sound(f\"square_wave_{frecuencia}.wav\")\n",
    "    nota = pygame.mixer.Sound(f\"snd/E-HiHat 3 Open{frecuencia}.wav\")\n",
    "\n",
    "    gato01.mp3\n",
    "    nota.play()\n",
    "    time.sleep(duracion)\n",
    "    pygame.mixer.quit()\n",
    "\n",
    "if __name__ == \"__main__\":\n",
    "    frecuencia = 440  # Frecuencia en Hz (440 Hz es A4)\n",
    "    duracion = 2      # Duración en segundos\n",
    "\n",
    "    generar_tono(frecuencia, duracion)\n",
    "\n"
   ]
  },
  {
   "cell_type": "code",
   "execution_count": null,
   "id": "0d6785a4-c2c1-40fe-848b-b82737ae0641",
   "metadata": {},
   "outputs": [],
   "source": []
  }
 ],
 "metadata": {
  "kernelspec": {
   "display_name": "Python 3 (ipykernel)",
   "language": "python",
   "name": "python3"
  },
  "language_info": {
   "codemirror_mode": {
    "name": "ipython",
    "version": 3
   },
   "file_extension": ".py",
   "mimetype": "text/x-python",
   "name": "python",
   "nbconvert_exporter": "python",
   "pygments_lexer": "ipython3",
   "version": "3.9.13"
  }
 },
 "nbformat": 4,
 "nbformat_minor": 5
}
