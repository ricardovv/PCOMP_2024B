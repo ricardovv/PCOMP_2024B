{
 "cells": [
  {
   "cell_type": "markdown",
   "metadata": {},
   "source": [
    "# M02_E07_Medios_Python_Texto_Analisis\n",
    "\n",
    "### PENSAMIENTO COMPUTACIONAL 2024-B\n",
    "\n",
    "* Prof. Ricardo Vega M. - Escuela de Diseño Universidad Católica de Chile - 2024.  \n",
    "\n",
    "* Renombrar archivo así: E0X_apellido_nombre_rut, por ejemplo:\n",
    "E0X_vega_ricardo_102349285  \n",
    "\n",
    "* Renombrar el titulo asi: M0X_E0X_PRINT_SUMAR_apellido_nombre_rut, por ejemplo:\n",
    "M0X_E0X_STRINGS_vega_ricardo_102349285\n",
    "\n",
    "* X equivale al número de la tarea.\n",
    "\n",
    "En la tarea de esta semana, veremos estas cosas:\n",
    "\n",
    "* A- Texto: Importar librerías y cargar datos.\n",
    "* B- Strings: Slicing de Texto. \n",
    "* C- Strings: Metodos de string. \n"
   ]
  },
  {
   "cell_type": "markdown",
   "metadata": {},
   "source": [
    "## 0- IMPORTAR LIBRERIAS\n",
    "\n",
    "Usaremos la librería Pandas, muy usada para trabajar con datos. Permite almacenar y transformar estructuras de datos, hacer estadística básica, entre otras operaciones. \n",
    "Tambien usaremos la libreria MatPLotLib, muy usada para visualizar datos.  Permite hacer gráficos de diverso tipo, es muy versátil pero algo compleja. \n",
    "\n"
   ]
  },
  {
   "cell_type": "code",
   "execution_count": 48,
   "metadata": {},
   "outputs": [],
   "source": [
    "# 0- importar Pandas\n",
    "import pandas as pd\n",
    "\n",
    "# importar librería matplotlib.\n",
    "import matplotlib.pyplot as plt\n"
   ]
  },
  {
   "cell_type": "markdown",
   "metadata": {},
   "source": [
    "## 1– CARGAR DATOS DEL TEXTO\n",
    "\n",
    "Como  trabajar con datos de texto.\n",
    "Primero, visitar esta url, se puede copiar y pegar en el navegador. Es una API que ofrece los datos de la constitución del 1980. Desde allí obtendremos el texto para trabajar. \n",
    "\n",
    "<code>https://c80.cl/wp-json/constitucion1980/v1/articulo/21\n",
    "</code>\n",
    "    \n",
    "– Ir a la dirección de arriba. \n",
    "– Boton derecho y \"Guardar como\", o \"Guardar página como\"\n",
    "– Guardar en una carpeta donde lo encuentren facilmente. \n",
    "– Deberán tener una archivo de datos como este 21.json\n",
    "– Lo abren con TextEdit (Mac) o NotePad (Windows), NUNCA abrir un archivo de datos con Word u otro editor de texto.  \n",
    "– Copian el texto y lo pegan enlas celdas de más abajo donde se indica. \n"
   ]
  },
  {
   "cell_type": "code",
   "execution_count": 62,
   "metadata": {},
   "outputs": [],
   "source": [
    "# ejemplo de como debe quedar \n",
    "articulo18 = {\"title\":\"Art\\u00edculo 18\",\"contenido\":[\"Habr\\u00e1 un sistema electoral p\\u00fablico. Una ley org\\u00e1nica constitucional determinar\\u00e1 su organizaci\\u00f3n y funcionamiento, regular\\u00e1 la forma en que se realizar\\u00e1n los procesos electorales y plebiscitarios, en todo lo no previsto por esta Constituci\\u00f3n y garantizar\\u00e1 siempre la plena igualdad entre los independientes y los miembros de partidos pol\\u00edticos tanto en la presentaci\\u00f3n de candidaturas como en su participaci\\u00f3n en los se\\u00f1alados procesos. Dicha ley establecer\\u00e1 tambi\\u00e9n un sistema de financiamiento, transparencia, l\\u00edmite y control del gasto electoral.\",\"Una ley org\\u00e1nica constitucional contemplar\\u00e1, adem\\u00e1s, un sistema de registro electoral, bajo la direcci\\u00f3n del Servicio Electoral, al que se incorporar\\u00e1n, por el solo ministerio de la ley, quienes cumplan los requisitos establecidos por esta Constituci\\u00f3n.\",\"El resguardo del orden p\\u00fablico durante los actos electorales y plebiscitarios corresponder\\u00e1 a las Fuerzas Armadas y Carabineros del modo que indique la ley.\"]}\n",
    "\n",
    "# poner texto aca despues del = \n",
    "#articulo18 = "
   ]
  },
  {
   "cell_type": "code",
   "execution_count": 63,
   "metadata": {},
   "outputs": [
    {
     "data": {
      "text/html": [
       "<div>\n",
       "<style scoped>\n",
       "    .dataframe tbody tr th:only-of-type {\n",
       "        vertical-align: middle;\n",
       "    }\n",
       "\n",
       "    .dataframe tbody tr th {\n",
       "        vertical-align: top;\n",
       "    }\n",
       "\n",
       "    .dataframe thead th {\n",
       "        text-align: right;\n",
       "    }\n",
       "</style>\n",
       "<table border=\"1\" class=\"dataframe\">\n",
       "  <thead>\n",
       "    <tr style=\"text-align: right;\">\n",
       "      <th></th>\n",
       "      <th>title</th>\n",
       "      <th>contenido</th>\n",
       "    </tr>\n",
       "  </thead>\n",
       "  <tbody>\n",
       "    <tr>\n",
       "      <th>0</th>\n",
       "      <td>Artículo 18</td>\n",
       "      <td>Habrá un sistema electoral público. Una ley or...</td>\n",
       "    </tr>\n",
       "    <tr>\n",
       "      <th>1</th>\n",
       "      <td>Artículo 18</td>\n",
       "      <td>Una ley orgánica constitucional contemplará, a...</td>\n",
       "    </tr>\n",
       "    <tr>\n",
       "      <th>2</th>\n",
       "      <td>Artículo 18</td>\n",
       "      <td>El resguardo del orden público durante los act...</td>\n",
       "    </tr>\n",
       "  </tbody>\n",
       "</table>\n",
       "</div>"
      ],
      "text/plain": [
       "         title                                          contenido\n",
       "0  Artículo 18  Habrá un sistema electoral público. Una ley or...\n",
       "1  Artículo 18  Una ley orgánica constitucional contemplará, a...\n",
       "2  Artículo 18  El resguardo del orden público durante los act..."
      ]
     },
     "execution_count": 63,
     "metadata": {},
     "output_type": "execute_result"
    }
   ],
   "source": [
    "# Cargar datos en un dataframe. \n",
    "# DataFrame una estructura para tener datos en la memoria y trabajar con ellos.\n",
    "df_art18 = pd.DataFrame( articulo18 )\n",
    "\n",
    "# mostrar datos. se muestran los 3 elementos que tiene. \n",
    "df_art18\n"
   ]
  },
  {
   "cell_type": "code",
   "execution_count": 64,
   "metadata": {},
   "outputs": [
    {
     "data": {
      "text/plain": [
       "'Artículo 18'"
      ]
     },
     "execution_count": 64,
     "metadata": {},
     "output_type": "execute_result"
    }
   ],
   "source": [
    "# mostrar el contenido del título.\n",
    "# accedemos nombrando algunos de sus elementos\n",
    "df_art18['title'].loc[0]\n"
   ]
  },
  {
   "cell_type": "code",
   "execution_count": 65,
   "metadata": {},
   "outputs": [
    {
     "data": {
      "text/plain": [
       "0    Habrá un sistema electoral público. Una ley or...\n",
       "1    Una ley orgánica constitucional contemplará, a...\n",
       "2    El resguardo del orden público durante los act...\n",
       "Name: contenido, dtype: object"
      ]
     },
     "execution_count": 65,
     "metadata": {},
     "output_type": "execute_result"
    }
   ],
   "source": [
    "# mostrar algo del contenido. \n",
    "# accedamos a 'contenido' y dentro de esto a o que hay en la posición 0\n",
    "# veremos lista de elementos separados por coma: \n",
    "# ['elemento0', 'elemento1','etc']\n",
    "\n",
    "df_art18['contenido']\n",
    "\n",
    "# df_art18['contenido'][0] # para acceder a un elemento del contenido"
   ]
  },
  {
   "cell_type": "code",
   "execution_count": 66,
   "metadata": {},
   "outputs": [
    {
     "name": "stdout",
     "output_type": "stream",
     "text": [
      "El elemento: 0 \n",
      " Habrá un sistema electoral público. Una ley orgánica constitucional determinará su organización y funcionamiento, regulará la forma en que se realizarán los procesos electorales y plebiscitarios, en todo lo no previsto por esta Constitución y garantizará siempre la plena igualdad entre los independientes y los miembros de partidos políticos tanto en la presentación de candidaturas como en su participación en los señalados procesos. Dicha ley establecerá también un sistema de financiamiento, transparencia, límite y control del gasto electoral.\n",
      "El elemento: 1 \n",
      " Una ley orgánica constitucional contemplará, además, un sistema de registro electoral, bajo la dirección del Servicio Electoral, al que se incorporarán, por el solo ministerio de la ley, quienes cumplan los requisitos establecidos por esta Constitución.\n",
      "El elemento: 2 \n",
      " El resguardo del orden público durante los actos electorales y plebiscitarios corresponderá a las Fuerzas Armadas y Carabineros del modo que indique la ley.\n"
     ]
    }
   ],
   "source": [
    "# con este ciclo for, se recorren los 3 elementos que tiene.\n",
    "for i, t in df_art.iterrows():\n",
    "    print('El elemento:', i, '\\n', t.iloc[1]) \n",
    "    "
   ]
  },
  {
   "cell_type": "markdown",
   "metadata": {},
   "source": [
    "## 2- EXPLORAR DATOS "
   ]
  },
  {
   "cell_type": "code",
   "execution_count": 67,
   "metadata": {},
   "outputs": [
    {
     "data": {
      "text/plain": [
       "(3, 2)"
      ]
     },
     "execution_count": 67,
     "metadata": {},
     "output_type": "execute_result"
    }
   ],
   "source": [
    "# cuántas filas y columnas en el dataframe.\n",
    "df_art18.shape\n"
   ]
  },
  {
   "cell_type": "code",
   "execution_count": 68,
   "metadata": {},
   "outputs": [
    {
     "data": {
      "text/html": [
       "<div>\n",
       "<style scoped>\n",
       "    .dataframe tbody tr th:only-of-type {\n",
       "        vertical-align: middle;\n",
       "    }\n",
       "\n",
       "    .dataframe tbody tr th {\n",
       "        vertical-align: top;\n",
       "    }\n",
       "\n",
       "    .dataframe thead th {\n",
       "        text-align: right;\n",
       "    }\n",
       "</style>\n",
       "<table border=\"1\" class=\"dataframe\">\n",
       "  <thead>\n",
       "    <tr style=\"text-align: right;\">\n",
       "      <th></th>\n",
       "      <th>title</th>\n",
       "      <th>contenido</th>\n",
       "    </tr>\n",
       "  </thead>\n",
       "  <tbody>\n",
       "    <tr>\n",
       "      <th>count</th>\n",
       "      <td>3</td>\n",
       "      <td>3</td>\n",
       "    </tr>\n",
       "    <tr>\n",
       "      <th>unique</th>\n",
       "      <td>1</td>\n",
       "      <td>3</td>\n",
       "    </tr>\n",
       "    <tr>\n",
       "      <th>top</th>\n",
       "      <td>Artículo 18</td>\n",
       "      <td>Habrá un sistema electoral público. Una ley or...</td>\n",
       "    </tr>\n",
       "    <tr>\n",
       "      <th>freq</th>\n",
       "      <td>3</td>\n",
       "      <td>1</td>\n",
       "    </tr>\n",
       "  </tbody>\n",
       "</table>\n",
       "</div>"
      ],
      "text/plain": [
       "              title                                          contenido\n",
       "count             3                                                  3\n",
       "unique            1                                                  3\n",
       "top     Artículo 18  Habrá un sistema electoral público. Una ley or...\n",
       "freq              3                                                  1"
      ]
     },
     "execution_count": 68,
     "metadata": {},
     "output_type": "execute_result"
    }
   ],
   "source": [
    "# descripciones estadísticas. como es texto veremos sólo las que se pueden obtener. \n",
    "df_art18.describe()\n"
   ]
  },
  {
   "cell_type": "code",
   "execution_count": 69,
   "metadata": {},
   "outputs": [
    {
     "data": {
      "text/plain": [
       "'habrá un sistema electoral público. una ley orgánica constitucional determinará su organización y funcionamiento, regulará la forma en que se realizarán los procesos electorales y plebiscitarios, en todo lo no previsto por esta constitución y garantizará siempre la plena igualdad entre los independientes y los miembros de partidos políticos tanto en la presentación de candidaturas como en su participación en los señalados procesos. dicha ley establecerá también un sistema de financiamiento, transparencia, límite y control del gasto electoral.'"
      ]
     },
     "execution_count": 69,
     "metadata": {},
     "output_type": "execute_result"
    }
   ],
   "source": [
    "# Crearemos una lista donde guardaremos los elementos de contenido del df_art.\n",
    "dflimpio18 = [] # lista vacia\n",
    "\n",
    "# ciclo for para recorrer el df_art y guardar elementos en dflimpio.\n",
    "for i, t in df_art18.iterrows():\n",
    "    dflimpio18.append(t.iloc[1].lower()) # arpovechamos de pasar a bajas.\n",
    "\n",
    "# mostrar dflimpio. \n",
    "dflimpio18 \n",
    "\n",
    "# mostrara el primero de 3 elementos\n",
    "# probar la siguiente linea descomentandola (sacar el #).   \n",
    "dflimpio18[0] \n",
    "\n",
    "#type( dflimpio18 ) # es una lista\n",
    "#type( dflimpio18[0] ) # dentro tiene un string\n"
   ]
  },
  {
   "cell_type": "markdown",
   "metadata": {},
   "source": [
    "## 3- SEPARAR PALABRAS\n",
    "##### Para iniciar analisis de texto, por lo general se separan las palabras y se colocan todas juntas, lo que se conoce como bolsa de palabras ('bag og words'). "
   ]
  },
  {
   "cell_type": "code",
   "execution_count": 57,
   "metadata": {},
   "outputs": [
    {
     "data": {
      "text/plain": [
       "['habrá',\n",
       " 'un',\n",
       " 'sistema',\n",
       " 'electoral',\n",
       " 'público.',\n",
       " 'una',\n",
       " 'ley',\n",
       " 'orgánica',\n",
       " 'constitucional',\n",
       " 'determinará',\n",
       " 'su',\n",
       " 'organización',\n",
       " 'y',\n",
       " 'funcionamiento,',\n",
       " 'regulará',\n",
       " 'la',\n",
       " 'forma',\n",
       " 'en',\n",
       " 'que',\n",
       " 'se',\n",
       " 'realizarán',\n",
       " 'los',\n",
       " 'procesos',\n",
       " 'electorales',\n",
       " 'y',\n",
       " 'plebiscitarios,',\n",
       " 'en',\n",
       " 'todo',\n",
       " 'lo',\n",
       " 'no',\n",
       " 'previsto',\n",
       " 'por',\n",
       " 'esta',\n",
       " 'constitución',\n",
       " 'y',\n",
       " 'garantizará',\n",
       " 'siempre',\n",
       " 'la',\n",
       " 'plena',\n",
       " 'igualdad',\n",
       " 'entre',\n",
       " 'los',\n",
       " 'independientes',\n",
       " 'y',\n",
       " 'los',\n",
       " 'miembros',\n",
       " 'de',\n",
       " 'partidos',\n",
       " 'políticos',\n",
       " 'tanto',\n",
       " 'en',\n",
       " 'la',\n",
       " 'presentación',\n",
       " 'de',\n",
       " 'candidaturas',\n",
       " 'como',\n",
       " 'en',\n",
       " 'su',\n",
       " 'participación',\n",
       " 'en',\n",
       " 'los',\n",
       " 'señalados',\n",
       " 'procesos.',\n",
       " 'dicha',\n",
       " 'ley',\n",
       " 'establecerá',\n",
       " 'también',\n",
       " 'un',\n",
       " 'sistema',\n",
       " 'de',\n",
       " 'financiamiento,',\n",
       " 'transparencia,',\n",
       " 'límite',\n",
       " 'y',\n",
       " 'control',\n",
       " 'del',\n",
       " 'gasto',\n",
       " 'electoral.']"
      ]
     },
     "execution_count": 57,
     "metadata": {},
     "output_type": "execute_result"
    }
   ],
   "source": [
    "# separaremos el parrafo 0 en sus palabras.  \n",
    "# split separa por un caracter, en este caso por ' ' (espacio).\n",
    "parrafo_separados18 = dflimpio18[0].split(' ') # separar al encontrar ' ' \n",
    "\n",
    "# ahora tenemos una lista nueva de palabras separadas.\n",
    "parrafo_separados18\n"
   ]
  },
  {
   "cell_type": "markdown",
   "metadata": {},
   "source": [
    "## 4- REMOVER PALABRAS SIN INTERES \n",
    "##### queda remover las palabras sin interés semántico,\n",
    "##### o sea que no aportan información para este análisis (en otros casos pueden ser importantes)."
   ]
  },
  {
   "cell_type": "code",
   "execution_count": 70,
   "metadata": {},
   "outputs": [
    {
     "data": {
      "text/plain": [
       "['todo',\n",
       " 'individuo',\n",
       " 'que',\n",
       " 'se',\n",
       " 'hallare',\n",
       " 'arrestado,',\n",
       " 'detenido',\n",
       " 'preso',\n",
       " 'infracción',\n",
       " 'de',\n",
       " 'dispuesto',\n",
       " 'la',\n",
       " 'constitución',\n",
       " 'leyes,',\n",
       " 'podrá',\n",
       " 'ocurrir',\n",
       " 'sí,',\n",
       " 'cualquiera',\n",
       " 'su',\n",
       " 'nombre,',\n",
       " 'la',\n",
       " 'magistratura',\n",
       " 'que',\n",
       " 'señale',\n",
       " 'la',\n",
       " 'ley,',\n",
       " 'fin',\n",
       " 'de',\n",
       " 'que',\n",
       " 'ésta',\n",
       " 'ordene',\n",
       " 'se',\n",
       " 'guarden',\n",
       " 'formalidades',\n",
       " 'legales',\n",
       " 'adopte',\n",
       " 'de',\n",
       " 'inmediato',\n",
       " 'providencias',\n",
       " 'que',\n",
       " 'juzgue',\n",
       " 'necesarias',\n",
       " 'restablecer',\n",
       " 'imperio',\n",
       " 'derecho',\n",
       " 'asegurar',\n",
       " 'la',\n",
       " 'debida',\n",
       " 'protección',\n",
       " 'afectado.\\r\\n']"
      ]
     },
     "execution_count": 70,
     "metadata": {},
     "output_type": "execute_result"
    }
   ],
   "source": [
    "# remover palabras vacías.\n",
    "# usaremos una funcion para remover palabras.\n",
    "def quitar_palabras( lista_palabras, sacar):\n",
    "    return [w for w in lista_palabras if w not in sacar]\n",
    "\n",
    "\n",
    "# lista de palabras que nos interesa eliminar. \n",
    "# qué otras palabras agregaría a la lista para quitar?. \n",
    "palabras_sacar = ['a','con','del','el','en','esta','lo','las','para','por','si','y','o'] \n",
    "\n",
    "# ahora removeremos y guardaremos en lista_limpia.\n",
    "palabras_limpia18 = quitar_palabras( parrafo_separados, palabras_sacar) \n",
    "\n",
    "# mostrar lista_limpia.\n",
    "palabras_limpia18\n"
   ]
  },
  {
   "cell_type": "markdown",
   "metadata": {},
   "source": [
    "## 5- CONTAR FRECUENCIA PALABRAS \n",
    "##### Con la bolsa de palabras limpia se pueden contar la frecuencia o cuantas veces aprarece una palabra."
   ]
  },
  {
   "cell_type": "code",
   "execution_count": 71,
   "metadata": {},
   "outputs": [
    {
     "data": {
      "text/plain": [
       "[1,\n",
       " 1,\n",
       " 4,\n",
       " 2,\n",
       " 1,\n",
       " 1,\n",
       " 1,\n",
       " 1,\n",
       " 1,\n",
       " 3,\n",
       " 1,\n",
       " 4,\n",
       " 1,\n",
       " 1,\n",
       " 1,\n",
       " 1,\n",
       " 1,\n",
       " 1,\n",
       " 1,\n",
       " 1,\n",
       " 4,\n",
       " 1,\n",
       " 4,\n",
       " 1,\n",
       " 4,\n",
       " 1,\n",
       " 1,\n",
       " 3,\n",
       " 4,\n",
       " 1,\n",
       " 1,\n",
       " 2,\n",
       " 1,\n",
       " 1,\n",
       " 1,\n",
       " 1,\n",
       " 3,\n",
       " 1,\n",
       " 1,\n",
       " 4,\n",
       " 1,\n",
       " 1,\n",
       " 1,\n",
       " 1,\n",
       " 1,\n",
       " 1,\n",
       " 4,\n",
       " 1,\n",
       " 1,\n",
       " 1]"
      ]
     },
     "execution_count": 71,
     "metadata": {},
     "output_type": "execute_result"
    }
   ],
   "source": [
    "# contar frecuencia de palabras.\n",
    "# usaremos una función para contar palabras.\n",
    "def contar_palabras( lista_palabras ):\n",
    "    frec_palabras = [lista_palabras.count(p) for p in lista_palabras]\n",
    "    return list( frec_palabras )\n",
    "\n",
    "# mostrar diccionario creado con frecuencia de palabras. \n",
    "palabras_frecuencia18 = contar_palabras( palabras_limpia18 ) \n",
    "palabras_frecuencia18\n"
   ]
  },
  {
   "cell_type": "markdown",
   "metadata": {},
   "source": [
    "## 6- GRAFICAR RESULTADOS \n",
    "##### Si bien no es una limpieza exhaustiva, podemos graficar los resultados que tenemos hasta ahora. "
   ]
  },
  {
   "cell_type": "code",
   "execution_count": 60,
   "metadata": {},
   "outputs": [
    {
     "name": "stdout",
     "output_type": "stream",
     "text": [
      "['todo', 'individuo', 'que', 'se', 'hallare', 'arrestado,', 'detenido', 'preso', 'infracción', 'de', 'dispuesto', 'la', 'constitución', 'leyes,', 'podrá', 'ocurrir', 'sí,', 'cualquiera', 'su', 'nombre,', 'la', 'magistratura', 'que', 'señale', 'la', 'ley,', 'fin', 'de', 'que', 'ésta', 'ordene', 'se', 'guarden', 'formalidades', 'legales', 'adopte', 'de', 'inmediato', 'providencias', 'que', 'juzgue', 'necesarias', 'restablecer', 'imperio', 'derecho', 'asegurar', 'la', 'debida', 'protección', 'afectado.\\r\\n'] \n",
      "\n",
      " [1, 1, 4, 2, 1, 1, 1, 1, 1, 3, 1, 4, 1, 1, 1, 1, 1, 1, 1, 1, 4, 1, 4, 1, 4, 1, 1, 3, 4, 1, 1, 2, 1, 1, 1, 1, 3, 1, 1, 4, 1, 1, 1, 1, 1, 1, 4, 1, 1, 1]\n"
     ]
    }
   ],
   "source": [
    "# para este caso usaremos dos listas separadas, p y f: \n",
    "# una con palabras limpias y otra con sus frecuencias.\n",
    "print(palabras_limpia18,'\\n\\n', palabras_frecuencia18)\n"
   ]
  },
  {
   "cell_type": "code",
   "execution_count": 72,
   "metadata": {},
   "outputs": [
    {
     "name": "stderr",
     "output_type": "stream",
     "text": [
      ") missing from font(s) DejaVu Sans.ackages/IPython/core/pylabtools.py:151: UserWarning: Glyph 13 (\n",
      "  fig.canvas.print_figure(bytes_io, **kw)\n"
     ]
    },
    {
     "data": {
      "image/png": "[encoded data removed]",
      "text/plain": [
       "<Figure size 1200x1000 with 1 Axes>"
      ]
     },
     "metadata": {},
     "output_type": "display_data"
    }
   ],
   "source": [
    "# para este caso usaremos dos listas separadas, p y f\n",
    "p18 = palabras_limpia18\n",
    "f18 = palabras_frecuencia18\n",
    "\n",
    "fig=plt.figure(figsize=(12, 10)) # tamaño del gráfico.\n",
    "plt.title(\"Frecuencia de palabras en el texto\") # título. \n",
    "plt.xlabel(\"Frecuencia\") # texto eje X. \n",
    "plt.ylabel(\"Palabras\") # texto eje Y.\n",
    "\n",
    "plt.barh(p18, f18, align='center') # dibujar el gráfico.\n",
    "\n",
    "# mostrar el gráfico. \n",
    "plt.show() \n"
   ]
  },
  {
   "cell_type": "markdown",
   "metadata": {},
   "source": [
    "## - - - - - - - - Ahora Usted! - - - - - - - - - - - - - "
   ]
  },
  {
   "cell_type": "markdown",
   "metadata": {},
   "source": [
    "## REPLICAR PROCESO\n",
    "\n",
    "Replique todos los siguientes pasos del 1 al 6, pero con otros datos. \n",
    "1– CARGAR DATOS DEL TEXTO\n",
    "2- Explorar Datos\n",
    "3- SEPARAR PALABRAS\n",
    "4- REMOVER PALABRAS SIN INTERES \n",
    "5- CONTAR FRECUECIA PALABRAS \n",
    "6- GRAFICAR RESULTADOS \n",
    "\n",
    "Puede copiar y pegar cada elemento de cada celda, pero recuerde que sus nuevas variable deben tener el numero del artículo que le corresponde, así:\n",
    "\n",
    "Variable donde dice:\n",
    "articulo18 \n",
    "\n",
    "Colocar en XX su numero de articulo como el ejemplo:  \n",
    "articulo31 \n",
    "\n",
    "Según su último número de RUT es el la url de datos que le correponden. Todos son dierente y con diferente cantidad de elementos, pero en general son cortos. \n",
    "\n",
    "0 - Artículos 20 - https://c80.cl/wp-json/constitucion1980/v1/articulo/20  \n",
    "1 - Artículos 21 - https://c80.cl/wp-json/constitucion1980/v1/articulo/21  \n",
    "2 - Artículos 22 - https://c80.cl/wp-json/constitucion1980/v1/articulo/22  \n",
    "3 - Artículos 23 - https://c80.cl/wp-json/constitucion1980/v1/articulo/23  \n",
    "4 - Artículos 24 - https://c80.cl/wp-json/constitucion1980/v1/articulo/24  \n",
    "5 - Artículos 25 - https://c80.cl/wp-json/constitucion1980/v1/articulo/25  \n",
    "6 - Artículos 26 - https://c80.cl/wp-json/constitucion1980/v1/articulo/26  \n",
    "7 - Artículos 27 - https://c80.cl/wp-json/constitucion1980/v1/articulo/27  \n",
    "8 - Artículos 28 - https://c80.cl/wp-json/constitucion1980/v1/articulo/28  \n",
    "9 - Artículos 29 - https://c80.cl/wp-json/constitucion1980/v1/articulo/29  \n",
    "\n"
   ]
  },
  {
   "cell_type": "markdown",
   "metadata": {},
   "source": [
    "## 1b– CARGAR DATOS DEL TEXTO\n"
   ]
  },
  {
   "cell_type": "code",
   "execution_count": 79,
   "metadata": {},
   "outputs": [],
   "source": [
    "## Su respuestas desde acá... \n"
   ]
  },
  {
   "cell_type": "markdown",
   "metadata": {},
   "source": [
    "## 2b- EXPLORAR DATOS \n"
   ]
  },
  {
   "cell_type": "code",
   "execution_count": 80,
   "metadata": {},
   "outputs": [],
   "source": [
    "## Su respuestas desde acá... \n"
   ]
  },
  {
   "cell_type": "markdown",
   "metadata": {},
   "source": [
    "## 3b- SEPARAR PALABRAS\n"
   ]
  },
  {
   "cell_type": "code",
   "execution_count": 81,
   "metadata": {},
   "outputs": [],
   "source": [
    "## Su respuestas desde acá... \n"
   ]
  },
  {
   "cell_type": "markdown",
   "metadata": {},
   "source": [
    "## 4b- REMOVER PALABRAS SIN INTERES \n"
   ]
  },
  {
   "cell_type": "code",
   "execution_count": 82,
   "metadata": {},
   "outputs": [],
   "source": [
    "## Su respuestas desde acá... \n"
   ]
  },
  {
   "cell_type": "markdown",
   "metadata": {},
   "source": [
    "## 5b- CONTAR FRECUECIA PALABRAS \n"
   ]
  },
  {
   "cell_type": "code",
   "execution_count": 83,
   "metadata": {},
   "outputs": [],
   "source": [
    "## Su respuestas desde acá... \n"
   ]
  },
  {
   "cell_type": "markdown",
   "metadata": {},
   "source": [
    "## 6b- GRAFICAR RESULTADOS \n"
   ]
  },
  {
   "cell_type": "code",
   "execution_count": 84,
   "metadata": {},
   "outputs": [],
   "source": [
    "## Su respuestas desde acá... \n"
   ]
  },
  {
   "cell_type": "code",
   "execution_count": null,
   "metadata": {},
   "outputs": [],
   "source": []
  }
 ],
 "metadata": {
  "kernelspec": {
   "display_name": "Python 3 (ipykernel)",
   "language": "python",
   "name": "python3"
  },
  "language_info": {
   "codemirror_mode": {
    "name": "ipython",
    "version": 3
   },
   "file_extension": ".py",
   "mimetype": "text/x-python",
   "name": "python",
   "nbconvert_exporter": "python",
   "pygments_lexer": "ipython3",
   "version": "3.9.13"
  }
 },
 "nbformat": 4,
 "nbformat_minor": 4
}
