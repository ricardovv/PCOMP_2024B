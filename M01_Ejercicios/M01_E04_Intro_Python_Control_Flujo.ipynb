{
 "cells": [
  {
   "cell_type": "markdown",
   "id": "8aaa541b",
   "metadata": {
    "id": "8aaa541b"
   },
   "source": [
    "# M01_E04_Intro_Python_Control_Flujo\n",
    "\n",
    "### PENSAMIENTO COMPUTACIONAL 2024-B\n",
    "\n",
    "* Prof. Ricardo Vega M. - Escuela de Diseño Universidad Católica de Chile - 2024.  \n",
    "\n",
    "* Renombrar archivo así: E0X_apellido_nombre_rut, por ejemplo:\n",
    "E0X_vega_ricardo_102349285  \n",
    "\n",
    "* Renombrar el título así: M0X_E0X_Nombre_Ejercicio_apellido_nombre_rut, por ejemplo:\n",
    "M0X_E0X_STRINGS_vega_ricardo_102349285\n",
    "\n",
    "* X equivale al número de la tarea.\n",
    "\n",
    "En la tarea de esta semana, veremos estas cosas:\n",
    "\n",
    "* A- Variables y Tipos de datos: Guardar valores.    \n",
    "* B- If-else: Tomar desiciones.     \n",
    "* C- Ciclos For: Repetir tareas.\n",
    "* D- Listas y Arrays: Guardar colecciones de variables.\n",
    "* E– Integrar: Armando un algoritmo con todo.\n"
   ]
  },
  {
   "cell_type": "markdown",
   "id": "c9982416",
   "metadata": {
    "id": "c9982416"
   },
   "source": [
    "## A- Variables y Tipos de datos: Guardar valores.    \n",
    "\n",
    "Se puede pensar en las variables como una cajita para guardar valores. Las variables crean un espacio en la memoria del computador para almacenar valores: Las variables pueden tener cualquier nombre, solo cuidar que sean breves y consistentes con su función. Las variables se pueden pensar en 3 pasos: declarar, asignar, usar.\n",
    "\n",
    "```  \n",
    "x = 0 # declarar variable llamada x, se le asigna un valor.  \n",
    "print( x ) # usar variable, en este caso solo imprimirla en consola.   \n",
    "```  \n",
    "\n",
    "Se pueden realizar operaciones aritméticas (+ - * /), entre otras, también se puede incrementar (aumentar) y decrementar (disminuir)\n",
    "```  \n",
    "x = x + 1 # incremento, se le va sumando 1\n",
    "x = x - 1  # decremento, se le va restando 1\n",
    "```  \n"
   ]
  },
  {
   "cell_type": "markdown",
   "id": "863d09ea",
   "metadata": {
    "id": "863d09ea"
   },
   "source": [
    "## B- If-else: Tomar desiciones.     \n",
    "\n",
    "El computador puede tomar decisiones según ciertas condiciones, comparando valores. Para estos se usan ciertas estructuras como if, else, elif. Estas se pueden pensar como una pregunta con una repuesta de \"si\" o \"no\", 1-0, \"Verdadero\" o \"Falso\". Por ejemplo, si un número es mayor que otro, se hace algo, sino, se hace otra cosa (o nada). Expresado en código es algo así:\n",
    "\n",
    "```  \n",
    "a = 5  # partamos con esta variable\n",
    "\n",
    "if a > 3: # condición que puede ser True o False.   \n",
    "    print( \"a es mayor\" )  # si es la condición hace esto...\n",
    "else:    \n",
    "    print( \"a es Menor\" )  # sino se hace esto otro...\n",
    "```  \n",
    "\n",
    "Para comparar variables, se usan operadores relacionales:\n",
    "```  \n",
    "> Mayor\n",
    "< Menor\n",
    ">= Mayor Igual\n",
    "<= Menor Igual\n",
    "!= Diferente\n",
    "== Igual # ojo, un = es asignar, dos es comparar.\n",
    "```  "
   ]
  },
  {
   "cell_type": "markdown",
   "id": "a4f33ed7",
   "metadata": {
    "id": "a4f33ed7"
   },
   "source": [
    "## C- Ciclos For: Repetir tareas.  \n",
    "Los ciclos, loops o iteraciones, son estructuras que, mientras se cumpla una condición, repiten un proceso n veces. Por ejemplo, establecemos un límite o rango, y mientras no se llega a ese valor, se repite la acción, y al llegar a ese valor límite, se detiene la acción. En código se expresa así:\n",
    "\n",
    "```\n",
    "for i in range( 5 ):\n",
    "    print( \"i vale\", i)\n",
    "```\n",
    "\n",
    "La i (u otra letra escogida) es un valor que va cambiando a cada iteración. Primero es 0, luego 1, 2, 3, hasta llegar a 4. Ese valor se puede usar para recorrer listas.\n"
   ]
  },
  {
   "cell_type": "markdown",
   "id": "2241ee20",
   "metadata": {
    "id": "2241ee20"
   },
   "source": [
    "## D- Listas y Arrays: Guardar colecciones de variables.   \n",
    "\n",
    "Los arrays, o listas, sirven para guardar muchos valores. Es una colección de cajas para guardar datos. Al igual que las variables, se declaran, se le asignan valores, y se usan. Los valores están separados por coma. Se accede a los datos por medio de su index o posición. Cuando son muy grandes, generalmente se usa un ciclo for para recorrerlos. Considerar que en python, la primera posición en un array o lista es 0. Se puede conocer su largo con la función len().\n",
    "```\n",
    "milista1 = [1, 2, 3, 4] # lista de números enteros\n",
    "print( milista1[ 3 ] ) # que hay en el index 1?\n",
    "\n",
    "milista2 = [\"Ana\", \"Beatriz\", \"Carlos\", \"Diana\"]  # lista de strings\n",
    "print( milista2[ 2 ] ) # que nombre mostraría?\n",
    "\n",
    "milista3 = [\"Araña\", \"Burro\", \"Conejo\", \"Delfin\", \"Elefante\", \"Foca\", \"Gato\"]\n",
    "print( milista3[ 5 ] ) # que animal se mostraría en el print?\n",
    "\n",
    "```\n"
   ]
  },
  {
   "cell_type": "markdown",
   "id": "e98a6d43",
   "metadata": {
    "id": "e98a6d43"
   },
   "source": [
    "## E– Integrar: Armando un algoritmo con todo.   \n",
    "\n",
    "Variables, Estructuras de decisión, Ciclos for, y listas (o arrays) son los bloques de construcción de algoritmos algo más compejos. Recordemos que un algoritmo es una serie de instrucciones ordenadas, secuenciales, finitas, orientadas a un fin.\n",
    "\n",
    "Entonces para elaborar un algoritmo sobre un problema dado, se debe pensar en cuales son las sub partes del problema, y las tareas se requieren. Generalmente se usa pseudo código, que es un texto simple que describe los principales pasos de un algoritmo, pero no escrito en un lenguaje de programación específico, algo así:\n",
    "\n",
    "Si el problema es:\n",
    "```\n",
    "A partir de las edades de 2 hermanos, muestre un mensaje con la diferencia de edad entre el\n",
    "menor y el mayor.\n",
    "```\n",
    "\n",
    "El pseudo código sería:\n",
    "```\n",
    "edad hermano 1.   \n",
    "edad hermano 2.  \n",
    "Determinar cual es mayor.  \n",
    "Al mayor, restar el menor.\n",
    "Mostrar el resultado.\n",
    "```\n",
    "Aunque hay muchas maneras de hacerlo en programación, una alternativa sería:\n",
    "```\n",
    "h1 = 6\n",
    "h2 = 9\n",
    "\n",
    "if h1 < h2:\n",
    "    dif = h2-h1\n",
    "    print(\"H2 es mayor que H1 por\", dif, \"años\"  )\n",
    "else:\n",
    "    dif = h1-h2\n",
    "    print(\"H1 es mayor que H2 por\", dif, \"años\"  )\n",
    "```\n"
   ]
  },
  {
   "cell_type": "markdown",
   "id": "69a095e3",
   "metadata": {
    "id": "69a095e3"
   },
   "source": [
    "### 1– Variables y tipos de datos.\n",
    "**Descripción**\n",
    "En la celda correspondiente, debe completar donde hay signos de interrogación (?) para que el print pueda mostrar cual será su año de salida de la emocionante carrera de Diseño.\n"
   ]
  },
  {
   "cell_type": "code",
   "execution_count": null,
   "id": "9ca3cf85",
   "metadata": {
    "id": "9ca3cf85",
    "outputId": "20817cac-9635-49a3-9547-8fa013e2766f"
   },
   "outputs": [
    {
     "name": "stdout",
     "output_type": "stream",
     "text": [
      "35\n",
      "5\n",
      "300\n",
      "1.3333333333333333\n",
      "30.5\n",
      "Z este es \"gran\" el texto\n"
     ]
    }
   ],
   "source": [
    "# Ejemplo 1- Variables y tipos de datos.\n",
    "\n",
    "# operaciones\n",
    "a = 15\n",
    "b = 20\n",
    "suma  = a + b\n",
    "resta = b - a\n",
    "multi = a * b\n",
    "divis = b / a\n",
    "\n",
    "print( suma )\n",
    "print( resta )\n",
    "print( multi )\n",
    "print( divis )\n",
    "\n",
    "\n",
    "# incrementar y decrementar\n",
    "a = 15\n",
    "a = a + 1 ## incrementar\n",
    "a = a - 1 ## incrementar\n",
    "\n",
    "\n",
    "# Tipos de datos (int, float, char, String)\n",
    "# Diferentes tipos de datos, necesitan diferentes espacios en memoria, el computador los trata de diferente maneras.\n",
    "\n",
    "mi_entero = 10   # valor número entero\n",
    "mi_float  = 20.5 # valor número punto flotante\n",
    "mi_char   = \"Z\"  # un carácter solo\n",
    "mi_string = \" este es \\\"gran\\\" el texto\" # String es una cadena de caracteres.\n",
    "\n",
    "print( mi_entero + mi_float )  # sumar dos valores\n",
    "print( mi_char + mi_string )  # concatena dos cadenas\n"
   ]
  },
  {
   "cell_type": "code",
   "execution_count": null,
   "id": "8c11f6f4",
   "metadata": {
    "colab": {
     "base_uri": "https://localhost:8080/"
    },
    "executionInfo": {
     "elapsed": 347,
     "status": "ok",
     "timestamp": 1725570798627,
     "user": {
      "displayName": "ISAIAS LOPEZ ROJAS",
      "userId": "08056376348819155486"
     },
     "user_tz": 240
    },
    "id": "8c11f6f4",
    "outputId": "5f0d8e2c-6f33-4b15-8518-f53a2bb0fd53"
   },
   "outputs": [
    {
     "name": "stdout",
     "output_type": "stream",
     "text": [
      "? ingreso el 0 , la carrera dura 5 años, entonces terminará el 5\n"
     ]
    }
   ],
   "source": [
    "# Su respuesta desde aca.\n",
    "# completar con sus datos en los signos de interrogación\n",
    "\n",
    "su_nombre = \"?\"\n",
    "largo_carrera = 5\n",
    "year_ingreso  = 0\n",
    "year_termino = year_ingreso  + largo_carrera\n",
    "\n",
    "print( su_nombre, \"ingreso el\", year_ingreso, \", la carrera dura\",\n",
    "      largo_carrera, \"años, entonces terminará el\", year_termino)\n"
   ]
  },
  {
   "cell_type": "code",
   "execution_count": null,
   "id": "317c2ad3",
   "metadata": {
    "id": "317c2ad3"
   },
   "outputs": [],
   "source": []
  },
  {
   "cell_type": "markdown",
   "id": "5ab552fe",
   "metadata": {
    "id": "5ab552fe"
   },
   "source": [
    "### 2– If-else.\n",
    "**Descripción**\n",
    "\n",
    "Usando la variables y estructura de más abajo, complete el siguiente caso, completando los signos de interrogación: \"Si no llueve irá a su clase favorita, pero si llueve, igual iré a mi clase favorita.\"\n"
   ]
  },
  {
   "cell_type": "code",
   "execution_count": null,
   "id": "e1850c29",
   "metadata": {
    "id": "e1850c29",
    "outputId": "82f9c160-121a-4faf-f957-e56010f2d67d"
   },
   "outputs": [
    {
     "name": "stdout",
     "output_type": "stream",
     "text": [
      "2a La luz esta encendida\n",
      "a es menor\n",
      "a es menor\n",
      "2c Juan se come un sandwich\n"
     ]
    }
   ],
   "source": [
    "# Ejemplo 2– If-else Tomar desiciones.\n",
    "\n",
    "# 2a-\n",
    "luz = 1 # o puede ser 1 o 0\n",
    "if (luz == True):\n",
    "    print( \"2a\", \"La luz esta encendida\" )\n",
    "\n",
    "\n",
    "# 2b– if & else\n",
    "a = 10\n",
    "b = 20\n",
    "if (a < b):\n",
    "    print( \"a es menor\"  )\n",
    "else:\n",
    "    print( \"b es menor\" )\n",
    "\n",
    "\n",
    "# 2b– if & else\n",
    "x = 10\n",
    "y = 20\n",
    "if (x < y):\n",
    "    print( \"a es menor\"  )\n",
    "else:\n",
    "    print( \"b es menor\" )\n",
    "\n",
    "\n",
    "# 2d- if, else if, else\n",
    "# juan tiene hambre y dinero?\n",
    "hambre = 1\n",
    "dinero = 1\n",
    "\n",
    "if (hambre == True) & (dinero == True): # si es verdadero, pasa lo siguiente\n",
    "    print( \"2c\", \"Juan se come un sandwich\"  )\n",
    "elif ( (hambre == True) & (dinero == False) ):\n",
    "    print( \"2c\", \"Juan pide plata a su mamá\" )\n",
    "else:\n",
    "    print( \"2c\", \"Juan se queda con hambre\" )\n"
   ]
  },
  {
   "cell_type": "code",
   "execution_count": null,
   "id": "976ed897",
   "metadata": {
    "colab": {
     "base_uri": "https://localhost:8080/",
     "height": 106
    },
    "executionInfo": {
     "elapsed": 329,
     "status": "error",
     "timestamp": 1725571100192,
     "user": {
      "displayName": "ISAIAS LOPEZ ROJAS",
      "userId": "08056376348819155486"
     },
     "user_tz": 240
    },
    "id": "976ed897",
    "outputId": "690cb002-97af-4cae-bdf5-83619b3b52f3"
   },
   "outputs": [
    {
     "ename": "SyntaxError",
     "evalue": "invalid syntax (<ipython-input-15-3ee1082c10dc>, line 4)",
     "output_type": "error",
     "traceback": [
      "\u001b[0;36m  File \u001b[0;32m\"<ipython-input-15-3ee1082c10dc>\"\u001b[0;36m, line \u001b[0;32m4\u001b[0m\n\u001b[0;31m    llueve =  ? # usar 0 o 1, True o False\u001b[0m\n\u001b[0m              ^\u001b[0m\n\u001b[0;31mSyntaxError\u001b[0m\u001b[0;31m:\u001b[0m invalid syntax\n"
     ]
    }
   ],
   "source": [
    "## Su respuesta desde aca.\n",
    "\n",
    "ramo = \"PCOMP\"\n",
    "llueve =  ? # usar 0 o 1, True o False\n",
    "\n",
    "if (llueve == True):\n",
    "    print(\"Llueve pero igual iré a mi clase favorita\", ?)\n",
    "else:\n",
    "    print(\"No llueve, iré a mi clase favorita\", ramo)\n"
   ]
  },
  {
   "cell_type": "markdown",
   "id": "98d1b523",
   "metadata": {
    "id": "98d1b523"
   },
   "source": [
    "### 3- Ciclos For. Completar lista.\n",
    "**Descripción**\n",
    "\n",
    "Con un ciclo for unidimensional, se debe mostrar las edades de al menos 8 personas. Para esto se debe completar las listas con nombres y edades (puede inventar los datos), hasta completar con 8 elementos en cada lista. Debe comentar además los elementos que faltan marcados con \"?\".\n"
   ]
  },
  {
   "cell_type": "code",
   "execution_count": null,
   "id": "ac2c3637",
   "metadata": {
    "id": "ac2c3637",
    "outputId": "74a4467c-c8fd-4478-e245-9b603de2f9a7",
    "scrolled": false
   },
   "outputs": [
    {
     "name": "stdout",
     "output_type": "stream",
     "text": [
      "x vale:  0\n",
      "x vale:  1\n",
      "x vale:  2\n",
      "x vale:  3\n",
      " - - - - - - - - - - - - - - - - - - - - - - - - \n",
      "x vale:  5\n",
      "x vale:  6\n",
      "x vale:  7\n",
      "x vale:  8\n",
      " - - - - - - - - - - - - - - - - - - - - - - - - \n",
      "i. 0 j. 0\n",
      "i. 0 j. 1\n",
      "i. 0 j. 2\n",
      "i. 1 j. 0\n",
      "i. 1 j. 1\n",
      "i. 1 j. 2\n",
      " - - - - - - - - - - - - - - - - - - - - - - - - \n",
      "ene\n",
      "feb\n",
      "mar\n",
      "abr\n",
      "may\n",
      "jun\n",
      "jul\n",
      "ago\n",
      "sep\n",
      "oct\n",
      "nov\n",
      "dic\n"
     ]
    }
   ],
   "source": [
    "# Ejemplos 3- Ciclos for.\n",
    "# usaré un separador visual para que se vean los diferentes resultados\n",
    "sep = \" - - - - - - - - - - - - - - - - - - - - - - - - \"\n",
    "\n",
    "# 3a para cualquier x, en un rango de 0 a 10, da el valor de la x\n",
    "for x in range(4):\n",
    "    print( \"x vale: \", x )\n",
    "print( sep )\n",
    "\n",
    "\n",
    "# 3b- unidimensional, sumando valores\n",
    "for x in range( 4 ):\n",
    "    print(\"x vale: \", x + 5)\n",
    "print( sep )\n",
    "\n",
    "\n",
    "# 3c- bi dimensional, de dos dimensiones\n",
    "for i in range(0, 2):\n",
    "    for j in range(0,3):\n",
    "        print(\"i.\", i, \"j.\", j)\n",
    "print( sep )\n",
    "\n",
    "\n",
    "# 3d- unidimensional, iterar en una lista de elementos.\n",
    "meses = [\"ene\", \"feb\", \"mar\", \"abr\", \"may\", \"jun\", \"jul\", \"ago\", \"sep\", \"oct\", \"nov\", \"dic\"]\n",
    "for i in range( len(meses) ):\n",
    "    print( meses[i] )  # imprime lo que hay en meses\n"
   ]
  },
  {
   "cell_type": "code",
   "execution_count": null,
   "id": "cd1d32a6",
   "metadata": {
    "id": "cd1d32a6",
    "outputId": "b67ea0c6-067d-4c60-99a4-734993641bf0",
    "scrolled": true
   },
   "outputs": [
    {
     "ename": "SyntaxError",
     "evalue": "invalid syntax (2955412410.py, line 4)",
     "output_type": "error",
     "traceback": [
      "\u001b[0;36m  File \u001b[0;32m\"/var/folders/7r/btknwd8d1r7_jgpscdy1z77h0000gn/T/ipykernel_27988/2955412410.py\"\u001b[0;36m, line \u001b[0;32m4\u001b[0m\n\u001b[0;31m    persona = [\"Ana\", \"Beatríz\", \"Carlos\", ? ] # completar lista con nombres inventados\u001b[0m\n\u001b[0m                                           ^\u001b[0m\n\u001b[0;31mSyntaxError\u001b[0m\u001b[0;31m:\u001b[0m invalid syntax\n"
     ]
    }
   ],
   "source": [
    "# Su respuesta desde aca.\n",
    "# Mostrar nombre y edad\n",
    "\n",
    "persona = [\"Ana\", \"Beatríz\", \"Carlos\", ? ] # completar lista con nombres inventados\n",
    "edad    = [ ?, 34, ?, 64, ?, ] # completar lista con edades inventadas\n",
    "\n",
    "for p in range( len( ? ) ): # tomar largo de la lista persona\n",
    "    print( persona[ p ], \"tiene\", edad[ ? ], \"años.\" )  # imprime lo que hay en meses\n"
   ]
  },
  {
   "cell_type": "markdown",
   "id": "acaa1fa1",
   "metadata": {
    "id": "acaa1fa1"
   },
   "source": [
    "### 4- Listas y Arrays: Rescatar palabras de listas.\n",
    "\n",
    "**Descripción**  \n",
    "\n",
    "De las listas correpondientes, obtener los valores correctos usando sus index. Las palabras a rescatar son: Juan, Diseñador, futbol, 2012.\n"
   ]
  },
  {
   "cell_type": "code",
   "execution_count": null,
   "id": "6de0a0d0",
   "metadata": {
    "id": "6de0a0d0",
    "outputId": "cb8c7b87-174b-474d-f886-2f696f8ca65a"
   },
   "outputs": [
    {
     "name": "stdout",
     "output_type": "stream",
     "text": [
      "buen dia\n",
      "17.5\n",
      "buenas noches\n",
      "8\n",
      "[1, 2]\n",
      "21\n",
      "11\n"
     ]
    }
   ],
   "source": [
    "# Ejemplo 4- Listas\n",
    "# Se pueden guardar diferentes tipos de datos en una lista, se accede por su index\n",
    "\n",
    "miArray = [ \"buen dia\", 17.5, \"buenas noches\"]\n",
    "print( miArray[0] )\n",
    "print( miArray[1] )\n",
    "print( miArray[2] )\n",
    "\n",
    "# para guardar datos relacionados\n",
    "nombres = [ \"Juan\", \"Pedro\", \"Maria\", \"Clara\", \"Rogelio\", \"Alicia\", \"Lucho\"  ]\n",
    "puntaje = [ 200, 40, 150, 175, 95, 20, 120 ]\n",
    "numeroElementos = len(nombres)\n",
    "\n",
    "for i in range(0, numeroElementos):\n",
    "    str(nombres[i]), (100+100*i, 100, 200, 100)\n",
    "    str(puntaje[i])\n",
    "\n",
    "\n",
    "# ejemplos de listas\n",
    "miLista = [7, 3, 9, \"a\", 5.5, 5, 2, 6] # pueden guardar tipos de datos diferentes!!!\n",
    "print( len(miLista)  ) # para saber el largo de una lista\n",
    "\n",
    "\n",
    "# lista detro de lisrta\n",
    "aListInAList = [ [1, 2], [3, 4] ]\n",
    "print( aListInAList[0] )\n",
    "\n",
    "l1 = [1, 2, 3, [21, 22, 23, [31, 32, 33, 34] ] ]\n",
    "print( l1[3][0] )\n",
    "\n",
    "l2 = [ [11,12], [21,22], [31,32], [41, 42] ]\n",
    "print( l2[0][0] )\n"
   ]
  },
  {
   "cell_type": "code",
   "execution_count": null,
   "id": "c600a305",
   "metadata": {
    "id": "c600a305",
    "outputId": "8dd13ed7-1d0c-4e7a-9eea-95818d5fb785"
   },
   "outputs": [
    {
     "name": "stdout",
     "output_type": "stream",
     "text": [
      "nombre: Juan\n",
      "profesion: Diseñador\n",
      "deporte futbol\n",
      "Años 2012\n"
     ]
    }
   ],
   "source": [
    "# Su respuesta desde aca.\n",
    "# Rescatar palabras de listas.\n",
    "\n",
    "lista_nombres   = [ False, \"Ornitorrinco\", \"Juan\", \"Piscina\"]\n",
    "lista_profesion = [ [\"calcetin\", 100.43], True, [\"Pollo\", \"Diseñador\"] ]\n",
    "lista_deporte   = [ \"futbol\", \"buen dia\", 17.5, \"camiones\"]\n",
    "lista_years     = [ True, 2012, \"Volantin\", \"Dinero\" ]\n",
    "\n",
    "# mostrar valores\n",
    "print( \"nombre:\",    lista_nombres[ ? ] )\n",
    "print( \"profesion:\", lista_profesion[ 2 ][ ? ] )\n",
    "print( \"deporte:\",   lista_deporte[ ? ] )\n",
    "print( \"Años:\",      lista_years[ ? ]  )\n"
   ]
  },
  {
   "cell_type": "markdown",
   "id": "9ae0579a",
   "metadata": {
    "id": "9ae0579a"
   },
   "source": [
    "### 5- Listas y Arrays: Completar Frase.\n",
    "\n",
    "**Descripción**  \n",
    "\n",
    "Con los elementos rescatados de las listas anteriores, guardarlas en variables correpondientes que permitan constuir la siguiente frase: \"Juan es Diseñador y juega futbol desde el año 2012\"\n"
   ]
  },
  {
   "cell_type": "code",
   "execution_count": null,
   "id": "13fa2019",
   "metadata": {
    "id": "13fa2019",
    "outputId": "ff065a27-a2c6-461e-fcee-f5c39ce23514"
   },
   "outputs": [
    {
     "ename": "SyntaxError",
     "evalue": "invalid syntax (1015291496.py, line 9)",
     "output_type": "error",
     "traceback": [
      "\u001b[0;36m  File \u001b[0;32m\"/var/folders/7r/btknwd8d1r7_jgpscdy1z77h0000gn/T/ipykernel_27988/1015291496.py\"\u001b[0;36m, line \u001b[0;32m9\u001b[0m\n\u001b[0;31m    print( ?, \"es\", ?,\"y juega\", ?, \"desde el año\", ? )\u001b[0m\n\u001b[0m           ^\u001b[0m\n\u001b[0;31mSyntaxError\u001b[0m\u001b[0;31m:\u001b[0m invalid syntax\n"
     ]
    }
   ],
   "source": [
    "# Su respuesta aca.\n",
    "# Listas y Arrays: Completar Frase.\n",
    "\n",
    "a = lista_nombres[ 2 ]\n",
    "b = lista_profesion[ 2 ][ 1 ]\n",
    "c = lista_deporte[ 0 ]\n",
    "d = lista_years[ 1 ]\n",
    "\n",
    "print( ?, \"es\", ?,\"y juega\", ?, \"desde el año\", ? )\n"
   ]
  },
  {
   "cell_type": "markdown",
   "id": "f8f7244a",
   "metadata": {
    "id": "f8f7244a"
   },
   "source": [
    "### 6– Integrar: Armando un algoritmo con todo.\n",
    "**Descripción**\n",
    "\n",
    "Según el siguiente pseudo código, ordene un algoritmo para calcular el p de las notas de la lista. Se le entrega el código, debe ordenarlo y luego completarlo.  \n",
    "\n",
    "```\n",
    "1. Declaración lista de notas:\n",
    "notas = [ ?, ?, ?, ?, ? ]\n",
    "2. Declaración de Variables:\n",
    "acu = ?\n",
    "promedio = ?\n",
    "largo_lista = len( ? )\n",
    "3. Crear ciclo for con límite sea largo de la lista:\n",
    "for i in range( largo_lista ):\n",
    "4. Leer Lista de notas con ciclo for:\n",
    "5. Sumar cada nota en el acumulador:\n",
    "acu = acu + notas[?]\n",
    "6. Al terminar de recorrer la lista sale del loop.\n",
    "7. En variable promedio, guardar división entre acumulador y cantidad de elementos de la lista:\n",
    "promedio = acu / largo_lista\n",
    "8. Mostrar resultado:\n",
    "print(“Promedio de notas:”, promedio)\n",
    "```\n",
    "\n",
    "Estas son las diferentes partes que se pueden ordenar según el pseudo código anterior.\n",
    "\n",
    "```\n",
    "# Parte A:   \n",
    "for i in range( len( ? ) ):\n",
    "    ? = acu + notas[?]\n",
    "\n",
    "# Parte B:  \n",
    "acu      = 0\n",
    "promedio = 0\n",
    "largo_lista = len( ? )\n",
    "\n",
    "# Parte C:  \n",
    "promedio = ? / largo_lista\n",
    "\n",
    "# Parte D:  \n",
    "print(\"Promedio de notas:\", ? )\n",
    "\n",
    "# Parte E:  \n",
    "notas = [ 5, 5.7, 4, 5, 3.5 ]\n",
    "```\n"
   ]
  },
  {
   "cell_type": "code",
   "execution_count": null,
   "id": "0e673055",
   "metadata": {
    "id": "0e673055",
    "outputId": "b08bd468-b92e-4f5d-e621-919f4368a032"
   },
   "outputs": [
    {
     "name": "stdout",
     "output_type": "stream",
     "text": [
      "Promedio de notas: 4.64\n"
     ]
    }
   ],
   "source": [
    "# Su respuesta desde aca.\n",
    "# Ordenar las diferentes partes.\n",
    "# Y completar los valores\n",
    "\n"
   ]
  },
  {
   "cell_type": "code",
   "execution_count": null,
   "id": "a2321371",
   "metadata": {
    "id": "a2321371"
   },
   "outputs": [],
   "source": []
  }
 ],
 "metadata": {
  "colab": {
   "provenance": []
  },
  "kernelspec": {
   "display_name": "Python 3 (ipykernel)",
   "language": "python",
   "name": "python3"
  },
  "language_info": {
   "codemirror_mode": {
    "name": "ipython",
    "version": 3
   },
   "file_extension": ".py",
   "mimetype": "text/x-python",
   "name": "python",
   "nbconvert_exporter": "python",
   "pygments_lexer": "ipython3",
   "version": "3.9.13"
  }
 },
 "nbformat": 4,
 "nbformat_minor": 5
}
