{
 "cells": [
  {
   "cell_type": "markdown",
   "metadata": {
    "id": "59I_QPWI12ES"
   },
   "source": [
    "# M01_E05_Intro_Python_Forma_Color\n",
    "\n",
    "### PENSAMIENTO COMPUTACIONAL 2024-B\n",
    "\n",
    "* Prof. Ricardo Vega M. - Escuela de Diseño Universidad Católica de Chile - 2024.  \n",
    "\n",
    "* Renombrar archivo así: E0X_apellido_nombre_rut, por ejemplo:\n",
    "E0X_vega_ricardo_102349285  \n",
    "\n",
    "* Renombrar el titulo asi: M01_E0X_FORMA_COLOR_apellido_nombre_rut, por ejemplo:\n",
    "M0X_E0X_FORMA_COLOR_vega_ricardo_102349285\n",
    "\n",
    "* X equivale al número de la tarea.\n",
    "\n",
    "En la tarea de esta semana, veremos estas cosas:\n",
    "\n",
    "* A- Librerías. \n",
    "* B- Librería Matplotlib. \n",
    "* C- Color Hexadecimal. \n",
    "* D- Formas Y Texto. \n",
    "\n",
    "Ejercicios: \n",
    "\n",
    "* 1- Importar Librería Matplotlib.   \n",
    "* 2- Mini gráfico con Matplotlib. profesiones y sueldos\n",
    "* 3- Color: Degradado de 10 pasos. \n",
    "* 4- Color: Bandera Vertical.\n",
    "* 5- Color: Bandera Horizaontal. \n",
    "* 6- Formas y Texto. Hacer cara de Robot o emoji, texto decreciente"
   ]
  },
  {
   "cell_type": "markdown",
   "metadata": {},
   "source": [
    "## A-Importar Librerías. \n",
    "\n",
    "Se pueden extender las capacidades básicas de python, mediante el uso de Librerías. Una librería es un conjunto de código externo que tiene funciones especializadas para ciertas tareas. Las librerías primero se deben \"importar\" a nuestro programa para trabajar con ellas, es decir, se debe cargar en la memoria ram. \n",
    "\n",
    "Para Python podemos encontrar librerías para todo tipo de tareas: astronomía, economia, estadística, video juegos, música, procesamiento de imágenes, para hacer diagramas, en fin...\n",
    "\n",
    "Para trabajar con librerías se deben importar. Por ejemplo, la siguiente línea llama a la función plt que no está en Python base. Dicha función es parte de la librería Matplotlib para visualización de datos. Si se ejecuta la línea siguiente, se arrojará un error:"
   ]
  },
  {
   "cell_type": "code",
   "execution_count": 1,
   "metadata": {},
   "outputs": [
    {
     "ename": "NameError",
     "evalue": "name 'plt' is not defined",
     "output_type": "error",
     "traceback": [
      "\u001b[0;31m---------------------------------------------------------------------------\u001b[0m",
      "\u001b[0;31mNameError\u001b[0m                                 Traceback (most recent call last)",
      "\u001b[0;32m/var/folders/7r/btknwd8d1r7_jgpscdy1z77h0000gn/T/ipykernel_42808/3132655863.py\u001b[0m in \u001b[0;36m<module>\u001b[0;34m\u001b[0m\n\u001b[1;32m      3\u001b[0m \u001b[0;31m## pues la librería no está cargada en la memoria\u001b[0m\u001b[0;34m\u001b[0m\u001b[0;34m\u001b[0m\u001b[0m\n\u001b[1;32m      4\u001b[0m \u001b[0;34m\u001b[0m\u001b[0m\n\u001b[0;32m----> 5\u001b[0;31m \u001b[0mplt\u001b[0m\u001b[0;34m.\u001b[0m\u001b[0mfigure\u001b[0m\u001b[0;34m(\u001b[0m\u001b[0mfigsize\u001b[0m\u001b[0;34m=\u001b[0m\u001b[0;34m(\u001b[0m\u001b[0;36m12\u001b[0m\u001b[0;34m,\u001b[0m \u001b[0;36m5\u001b[0m\u001b[0;34m)\u001b[0m \u001b[0;34m)\u001b[0m\u001b[0;34m\u001b[0m\u001b[0;34m\u001b[0m\u001b[0m\n\u001b[0m",
      "\u001b[0;31mNameError\u001b[0m: name 'plt' is not defined"
     ]
    }
   ],
   "source": [
    "## Ejemplo A- Al ejecutar esta linea al inicio arrojará un problema \n",
    "## dirá algo asi: NameError: name 'plt' is not defined\n",
    "## pues la librería no está cargada en la memoria\n",
    "\n",
    "plt.figure(figsize=(12, 5) ) \n"
   ]
  },
  {
   "cell_type": "markdown",
   "metadata": {},
   "source": [
    "## B-Librería MatPlotLib\n",
    "\n",
    "Existen muchas librerías para colores o imagenes, pero partiremos con la librería Matplotlib, para visualización de datos. Para este ejercicio la usaremos para dibujar formas y colores. Recordar que estamos programando, así que la lógica es distinta a los programas habituales que usan interfaces de usuario (Graphic User Interface). \n",
    "\n",
    "Primero debemos \"importar\" la librería, así  dicha librería se carga en la memoria RAM y queda disponible para usarla en nuestro programa. Cada vez que abramos el código, debemos importarla al inicio. Para este ejercicio usaremos las funciones descritas más abajo. \n"
   ]
  },
  {
   "cell_type": "code",
   "execution_count": 1,
   "metadata": {},
   "outputs": [],
   "source": [
    "## Ejemplo B \n",
    "## Para importar librería se ejecutan las lineas siguientes.\n",
    "import matplotlib \n",
    "import matplotlib.pyplot as plt # al cargar las librerias no muestra nada en consola. \n"
   ]
  },
  {
   "cell_type": "markdown",
   "metadata": {},
   "source": [
    "## C- Color Hexadecimal. \n",
    "\n",
    "Hexa quiere decir \"seis\", y en programación, el espacio Hexadecimal es un sistema numeral de base 16 (hexa=seis, decimal=diez) para representar colores. Usa dígitos del 0 al 9, y letras A, B, C, D, E, y F. \n",
    "Del 0 al 9 tenemos 10 valores, y de la A a la F tenemos 6 más, y así se completan los 16 valores de 1 digito. Queda así: \n",
    "```  \n",
    "1=1   \n",
    "2=2   \n",
    "3=3   \n",
    "4=4   \n",
    "5=5   \n",
    "6=6   \n",
    "7=7   \n",
    "8=8   \n",
    "9=9   \n",
    "A=10   \n",
    "B=11   \n",
    "C=12   \n",
    "D=13   \n",
    "E=14   \n",
    "F=15   \n",
    "```  \n",
    "Con las combinaciones de letras y números se pueden representar más de 16 millones de colores, 16 elevado a 6 ( 16x16x16x16x16x160 = 16.777.216 ). Deben llevar el # al inicio. Algunas muestras de estos colores:\n",
    "```  \n",
    "- #FF8C00 # Este color seria naranja. \n",
    "- # comienza con hashtag o gato \n",
    "- FF # primer par de valores para el rojo. \n",
    "- 8C # segundo par de valores para el verde.\n",
    "- 00 # tercer par de valores para el azul. \n",
    "```  \n",
    "Pueden ver colores web en: https://www.w3schools.com/colors/colors_names.asp\n"
   ]
  },
  {
   "cell_type": "code",
   "execution_count": 5,
   "metadata": {},
   "outputs": [
    {
     "name": "stdout",
     "output_type": "stream",
     "text": [
      "#FFFF00\n"
     ]
    }
   ],
   "source": [
    "## Ejemplo C - Color hexadecimal. \n",
    "## Dejaré una lista de colores hexadecimales guardados en variables.\n",
    "## que se puede seguir ampliando. \n",
    "\n",
    "## Color Hexadecimal\n",
    "## https://www.w3schools.com/colors/colors_hexadecimal.asp\n",
    "col_amar = \"#FFFF00\"\n",
    "col_azul = \"#0000FF\"\n",
    "col_blan = \"#FFFFFF\"\n",
    "col_negr = \"#000000\"\n",
    "col_rojo = \"#FF0000\"\n",
    "col_verd = \"#008000\"\n",
    "col_nara = \"#FF8C00\"\n",
    "\n",
    "print( col_amar )\n"
   ]
  },
  {
   "cell_type": "markdown",
   "metadata": {},
   "source": [
    "## D- Formas.  \n",
    "\n",
    "Con la librería Matplotlib es posible usar una gama acotada de formas básicas (punto, línea, rectángulo, círculo, triángulo), y también se puede incorporar texto y algunas tipografías básicas que tiene la librería. Las formas que se pueden trabajar en Matplotlib son principalmente estas, cada una con una serie de parámetros que se pueden ver en este ejemplo: \n",
    "\n",
    "```  \n",
    "# libreria.subelemento.Forma( (posicion x, posicion y), ancho, alto, color = valor) \n",
    "matplotlib.patches.Rectangle((0, 0), 100, 25, color =col_amar) \n",
    "\n",
    "```  \n",
    "\n"
   ]
  },
  {
   "cell_type": "code",
   "execution_count": 7,
   "metadata": {},
   "outputs": [
    {
     "data": {
      "image/png": "[encoded data removed]",
      "text/plain": [
       "<Figure size 900x600 with 1 Axes>"
      ]
     },
     "metadata": {},
     "output_type": "display_data"
    }
   ],
   "source": [
    "## Ejemplo D \n",
    "\n",
    "## Crearemos un ejemplo con varias formas y colores con funciones de matplotlib \n",
    "fig = plt.figure(figsize=(9, 6) ) # proporción de ancho y alto \n",
    "ax = fig.add_subplot(111) #\n",
    "\n",
    "# crea un rectángulo, Rectangle((x, y), ancho en px, alto en px, color=hexadecimal) \n",
    "rect1 = matplotlib.patches.Rectangle((10, 10), 80, 20, color =col_amar) \n",
    "\n",
    "# crea un rectangulo, Rectangle((x, y), ancho en px, alto en px, color=hexadecimal) \n",
    "rect2 = matplotlib.patches.Rectangle((0, 25), 100, 25, color =col_rojo) \n",
    "\n",
    "# crea un círculo, Circle((x, y), radio en px, color=hexadecimal) \n",
    "circ1 = matplotlib.patches.Circle((50, 40), radius=10, color =col_verd) \n",
    "\n",
    "# agrega los rectángulos y círculos al gráfico.   \n",
    "ax.add_patch(rect1) \n",
    "ax.add_patch(rect2) \n",
    "ax.add_patch(circ1) \n",
    "\n",
    "# crea un texto simple: text(x, y, \"texto\", size=en px, rotation=grados)\n",
    "plt.text(35, 16, \"gato\", size=20, rotation=0 )\n",
    "\n",
    "# crea un cuadro con un texto: text(x, y, \"texto\", size=en px, ha=alin horiz, va=alin vert... )\n",
    "plt.text(25, 60, \"texto 1\", size=50, ha=\"center\", va=\"top\", \n",
    "         bbox=dict(boxstyle=\"square\", ec=(\"blue\"),fc=(\"pink\") \n",
    "            )\n",
    "         )    \n",
    "# tamaños. \n",
    "plt.xlim([0, 100]) # unidades ancho\n",
    "plt.ylim([0, 75])  # unidades alto\n",
    "plt.show() # y finalmente mostrar\n",
    "\n",
    "# por si queremos guardarlo \n",
    "#plt.savefig(\"prueba_bandera01.png\")\n"
   ]
  },
  {
   "cell_type": "markdown",
   "metadata": {
    "id": "mSk3xUTA12EZ",
    "outputId": "ac9f80ab-d56a-4708-d49b-df75797ad4d9"
   },
   "source": [
    "### 1- Completar las listas de profesiones y sueldos (1 punto)\n",
    "**Descripción**  \n",
    "\n",
    "Debe completar la lista de profesiones y sueldos con al menos 10 elementos cada una. Los valores pueden ser inventados. Ambas listas deben tener la misma cantidad de elementos. \n",
    "\n",
    "``` \n",
    "profesiones = [\"arquitecto\", \"bailarín\", \"contador\" ] # lista de strings llevan comillas. \n",
    "sueldo      = [1000, 900, 1300] # lista de enteros sin comillas. \n",
    "``` \n"
   ]
  },
  {
   "cell_type": "code",
   "execution_count": 9,
   "metadata": {},
   "outputs": [
    {
     "ename": "SyntaxError",
     "evalue": "invalid syntax (2785062332.py, line 2)",
     "output_type": "error",
     "traceback": [
      "\u001b[0;36m  File \u001b[0;32m\"/var/folders/7r/btknwd8d1r7_jgpscdy1z77h0000gn/T/ipykernel_42808/2785062332.py\"\u001b[0;36m, line \u001b[0;32m2\u001b[0m\n\u001b[0;31m    profesiones = [\"arquitecto\", \"bailarín\", \"contador\", ? ] # poner otras profesines. lista de strings llevan comillas.\u001b[0m\n\u001b[0m                                                         ^\u001b[0m\n\u001b[0;31mSyntaxError\u001b[0m\u001b[0;31m:\u001b[0m invalid syntax\n"
     ]
    }
   ],
   "source": [
    "# Su respuesta desde acá.  \n",
    "profesiones = [\"arquitecto\", \"bailarín\", \"contador\", ? ] # poner otras profesines. lista de strings llevan comillas. \n",
    "sueldos      = [1000, 900, 1300, ?] # lista de enteros sin comillas. \n",
    "\n",
    "#mostrar las listas\n",
    "print( \"Lista de Profesiones\", ? )\n",
    "print( \"Lista de Sueldos\", ? )\n"
   ]
  },
  {
   "cell_type": "markdown",
   "metadata": {
    "id": "AkRE4rqC12EZ",
    "outputId": "7663f81f-d7a7-47aa-b8e6-42df3d1d31ff"
   },
   "source": [
    "### 2- Mini Gráfico con Matplotlib. profesiones y sueldos  (1 punto)\n",
    "**Descripción**  \n",
    "\n",
    "Usando la lista de profesiones y sueldos, crear un gráfico de barras simple para mostrar las diferencias de sueldos. Para estos se puede usar el código de másm abajo, y colocar los valores correspondientes de sus listas de profesiones y sueldos.\n",
    "\n",
    "``` \n",
    "# referencia de que son las posiciones. \n",
    "plt.bar( valores para x, valores para y, color= lista de colores)\n",
    "plt.show()\n",
    "``` "
   ]
  },
  {
   "cell_type": "code",
   "execution_count": 5,
   "metadata": {},
   "outputs": [
    {
     "data": {
      "image/png": "[encoded data removed]",
      "text/plain": [
       "<Figure size 640x480 with 1 Axes>"
      ]
     },
     "metadata": {},
     "output_type": "display_data"
    }
   ],
   "source": [
    "# Su respuesta acá.  \n",
    "\n",
    "profesiones = # aca la lista completa de profesiones \n",
    "sueldos     = #aca la lista completa de sueldos \n",
    "\n",
    "# Variables\n",
    "miscolores = [\"red\", \"blue\", \"yellow\"] \n",
    "titulo     = \"Sueldos de profesiones\"\n",
    "etiqueta_x = \"Sueldos de profesiones\"\n",
    "etiqueta_y = \"Sueldos\"\n",
    "\n",
    "# crear gráfico. Poner las variables que corresponden.  \n",
    "plt.title( ? ) \n",
    "plt.xlabel( ? )\n",
    "plt.ylabel( ? )\n",
    "\n",
    "# los datos son los del punto 1, profesiones y sueldos\n",
    "plt.bar( profesiones, ?, color= ? ) \n",
    "plt.show()\n"
   ]
  },
  {
   "cell_type": "markdown",
   "metadata": {
    "id": "fY3sqYQ112Ea"
   },
   "source": [
    "### 3- Color: Degradado de 10 pasos (1 punto). \n",
    "**Descripción**\n",
    "\n",
    "Completar un degradado de valores a una variable p\n",
    "\n",
    "Completar la lista valores_rojo[] con los valores correspondientes. Observe el patrón de la secuencia de la lista valores_azul. Además, se debe de completar los valores faltantes. \n",
    "\n",
    "``` \n",
    "ax.axvline # genera una línea vertical. \n",
    "ax.axhline # genera una línea horizontal. \n",
    "``` "
   ]
  },
  {
   "cell_type": "code",
   "execution_count": 11,
   "metadata": {},
   "outputs": [
    {
     "ename": "SyntaxError",
     "evalue": "invalid syntax (2064856829.py, line 5)",
     "output_type": "error",
     "traceback": [
      "\u001b[0;36m  File \u001b[0;32m\"/var/folders/7r/btknwd8d1r7_jgpscdy1z77h0000gn/T/ipykernel_42808/2064856829.py\"\u001b[0;36m, line \u001b[0;32m5\u001b[0m\n\u001b[0;31m    valores_rojo = [ \"#110000\", ?, \"#550022\", \"#770033\", ?, \"#BB0055\", ?, \"#EE0077\" ]\u001b[0m\n\u001b[0m                                ^\u001b[0m\n\u001b[0;31mSyntaxError\u001b[0m\u001b[0;31m:\u001b[0m invalid syntax\n"
     ]
    }
   ],
   "source": [
    "# Su respuesta acá. \n",
    "\n",
    "# listas con colores\n",
    "valores_azul = [ \"#000011\", \"#001133\", \"#002255\", \"#003377\", \"#004499\", \"#0055BB\", \"#0066DD\", \"#0077EE\" ]\n",
    "valores_rojo = [ \"#110000\", ?, \"#550022\", \"#770033\", ?, \"#BB0055\", ?, \"#EE0077\" ]\n",
    "\n",
    "# proporción del gráfico \n",
    "fig, ax = plt.subplots(figsize=(5, 5))\n",
    "\n",
    "# crear dinámicamente las barras de colores. \n",
    "for x in range( len( valores_azul ) ):\n",
    "\n",
    "    color1 = valores_azul[ ? ]\n",
    "    ax.axvline(x, color=color1, linewidth=30, alpha=.9 ) \n",
    "    \n",
    "    color2 = ?[ x ]\n",
    "    ax.axhline(x, color=?, linewidth=30, alpha=.9 ) \n",
    "    \n",
    "plt.show()\n"
   ]
  },
  {
   "cell_type": "markdown",
   "metadata": {},
   "source": [
    "### 4- Color: Bandera Horizontal (1 punto).\n",
    "\n",
    "**Descripción**\n",
    "\n",
    "Seleccionar la bandera según el último número de su rut, e implementarla usando los elementos de la sección D-Formas.  \n",
    "Puede usar las variables de color del Ejemplo C- Color hexadecimal. Si le faltan colores se puede crear los colores hexadecimales y guardarlos en una variable.  \n",
    "No se preocupen por la exactitud de los colores, ni por las proporciones de las banderas. Las proporciones a usar serán 3 a 2. \n",
    "``` \n",
    "* Horizontales: \n",
    "    * 0 = alemania\n",
    "    * 1 = armenia\n",
    "    * 2 = bolivia\n",
    "    * 3 = estonia\n",
    "    * 4 = gabon\n",
    "    * 5 = holanda\n",
    "    * 6 = hungria\n",
    "    * 7 = lituania\n",
    "    * 8 = luxemburgo\n",
    "    * 9 = rusia\n",
    "    * K = sierra leona \n"
   ]
  },
  {
   "cell_type": "code",
   "execution_count": 147,
   "metadata": {},
   "outputs": [],
   "source": [
    "# Su respuesta acá. \n"
   ]
  },
  {
   "cell_type": "markdown",
   "metadata": {},
   "source": [
    "### 5- Color: Bandera Vertical (1 punto).\n",
    "\n",
    "**Descripción**\n",
    "\n",
    "Seleccionar la bandera según el último número de su rut, e implementarla usando los elementos de la sección D-Formas.  \n",
    "Puede usar las variables de color del Ejemplo C- Color hexadecimal. Si le faltan colores, se puede crear los colores hexadecimales y guardarlos en una variable.  \n",
    "No se preocupen por la exactitud de los colores, ni por las proporciones de las banderas. Las proporciones a usar serán 3 a 2. \n",
    "``` \n",
    "* Verticales: \n",
    "    * 0 = camerun (sin estrella)\n",
    "    * 1 = belgica \n",
    "    * 2 = rumania\n",
    "    * 3 = francia \n",
    "    * 4 = irlanda \n",
    "    * 5 = italia \n",
    "    * 6 = guinea\n",
    "    * 7 = mali \n",
    "    * 8 = costa de marfil \n",
    "    * 9 = belgica \n",
    "    * K = guinea \n",
    "``` \n"
   ]
  },
  {
   "cell_type": "code",
   "execution_count": 12,
   "metadata": {},
   "outputs": [],
   "source": [
    "# Su respuesta acá. \n"
   ]
  },
  {
   "cell_type": "markdown",
   "metadata": {},
   "source": [
    "### 6- Formas y Texto. Hacer texto decreciente (1 punto).\n",
    "**Descripción**\n",
    "\n",
    "Las frutas y los colores estan desordenados. Debe ordenar el contenido de las listas de manera de reflejar el ranking siguiente: \n",
    "``` \n",
    "Primero: Naranja, de tamaño 10, es naranja\n",
    "Segundo: Frambuesa, de tamaño 20, es rojo\n",
    "Tercero: Platano, de tamaño 30, es amarillo\n",
    "Cuarto: Arándano, de tamaño 40, es azul\n",
    "Quinto: Kiwi, de tamaño 50, es verde\n",
    "``` "
   ]
  },
  {
   "cell_type": "code",
   "execution_count": 13,
   "metadata": {},
   "outputs": [
    {
     "data": {
      "image/png": "[encoded data removed]",
      "text/plain": [
       "<Figure size 500x500 with 1 Axes>"
      ]
     },
     "metadata": {},
     "output_type": "display_data"
    }
   ],
   "source": [
    "# Su respuesta acá. \n",
    "\n",
    "\n",
    "# listas con texto \n",
    "# solo se modifican estas listas. \n",
    "frutas_tam = [ 10, 20, 30, 40, 50 ] # reordenar esta lista según el ranking de arriba. \n",
    "frutas_nom = [  \"Arándano\",\"Platano\", \"Kiwi\", \"Naranja\",\"Frambuesa\" ] # reordenar esta lista según el ranking de arriba. \n",
    "frutas_col = [  \"#FF8C00\", \"#FFFF00\", \"#0000FF\", \"#008000\", \"#FF0000\" ] # reordenar esta lista según el ranking de arriba. \n",
    "\n",
    "\n",
    "# de aqui hacia abajo no se modifica\n",
    "# proporción del gráfico \n",
    "fig, ax = plt.subplots(figsize=(5, 5))\n",
    "\n",
    "# crear dinámicamente las barras de colores. \n",
    "for x in range( len( frutas_nom ) ):\n",
    "\n",
    "    nom = frutas_nom[ x ]\n",
    "    col = frutas_col[ x ]\n",
    "    tam = frutas_tam[ x ]\n",
    "    plt.text(30+25, 10+15*x, nom, color=col, size=tam, ha=\"center\", va=\"top\"  )    \n",
    "\n",
    "    \n",
    "# unidades limites del contenedor grafico \n",
    "plt.xlim([0, 100]) # unidades ancho\n",
    "plt.ylim([0, 75])  # unidades alto\n",
    "plt.show() # y finalmente mostrar\n",
    "\n",
    "# por si queremos guardarlo \n",
    "#plt.savefig(\"prueba_frutas01.png\")\n",
    "\n",
    "# mostrar grafico \n",
    "plt.show()\n"
   ]
  },
  {
   "cell_type": "code",
   "execution_count": null,
   "metadata": {},
   "outputs": [],
   "source": []
  }
 ],
 "metadata": {
  "colab": {
   "provenance": []
  },
  "kernelspec": {
   "display_name": "Python 3 (ipykernel)",
   "language": "python",
   "name": "python3"
  },
  "language_info": {
   "codemirror_mode": {
    "name": "ipython",
    "version": 3
   },
   "file_extension": ".py",
   "mimetype": "text/x-python",
   "name": "python",
   "nbconvert_exporter": "python",
   "pygments_lexer": "ipython3",
   "version": "3.9.13"
  }
 },
 "nbformat": 4,
 "nbformat_minor": 4
}
