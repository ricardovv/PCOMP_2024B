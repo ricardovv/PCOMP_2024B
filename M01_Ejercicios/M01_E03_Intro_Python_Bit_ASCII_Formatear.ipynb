{
 "cells": [
  {
   "cell_type": "markdown",
   "metadata": {
    "id": "59I_QPWI12ES"
   },
   "source": [
    "# M01_E03_Intro_Python_Bit_ASCII_Formatear\n",
    "Ascii_TextFormating\n",
    "\n",
    "### PENSAMIENTO COMPUTACIONAL 2024-B\n",
    "\n",
    "* Prof. Ricardo Vega M. - Escuela de Diseño Universidad Católica de Chile - 2024.  \n",
    "\n",
    "* Renombrar archivo así: E02_apellido_nombre_rut, por ejemplo:\n",
    "E0X_vega_ricardo_102349285  \n",
    "\n",
    "* Renombrar el titulo así: M01_E0X_PRINT_SUMAR_apellido_nombre_rut, por ejemplo:\n",
    "M0X_E0X_Print_Sumar_vega_ricardo_102349285\n",
    "\n",
    "* X equivale al número de la tarea.\n",
    "\n",
    "### En la tarea de esta semana, veremos estos temas:\n",
    "\n",
    "* 1- Bits!  \n",
    "* 2- Codificación ASCII.  \n",
    "* 3- Formatear Texto.  \n"
   ]
  },
  {
   "cell_type": "markdown",
   "metadata": {
    "id": "cjZPFf7H12ET"
   },
   "source": [
    "## A- Números Binarios! \n",
    "\n",
    "**Sobre los bits y números binarios**  \n",
    "Ya sabemos que el computador trabaja con bits, la unidad de datos mas básica. Y ocho bits forman un byte. Toma valores 0 o 1, y se cuentan de derecha a izquierda, como los números decimales. Tiene un valor posicional que va aumentando x2: 128, 64, 32, 16, 8, 4, 2, 1. Por ejemplo la notación binaria 00100101 = 37 en notación decimal. \n",
    "\n",
    "En python para escribir binario se escribe \"0b\" y luego el octeto, así: 0b00100101   \n"
   ]
  },
  {
   "cell_type": "code",
   "execution_count": 39,
   "metadata": {},
   "outputs": [
    {
     "name": "stdout",
     "output_type": "stream",
     "text": [
      "37\n"
     ]
    }
   ],
   "source": [
    "# Al hacer print aparece el valor\n",
    "print(0b00100101)"
   ]
  },
  {
   "cell_type": "markdown",
   "metadata": {},
   "source": [
    "## 1- Fecha nacimiento en binario (1 punto)  \n",
    "\n",
    "**Descripción**  \n",
    "\n",
    "En esta tarea deberá escribir en números binarios su fecha de nacimiento, cada dígito separado. Para los años, como los octetos pueden representar hasta 1024 solamente, usaremos 2 variables para sumarlas y llegar a los años sobre 1024. Y finalmente, concatenarlos dentro de un print(). Recuerde que concatenar es poner valores uno al lado de otro. \n",
    "\n",
    "Recuerde: En python para escribir binario se escribe \"0b\" y luego el octeto, así: 0b00100101   \n"
   ]
  },
  {
   "cell_type": "code",
   "execution_count": 40,
   "metadata": {},
   "outputs": [
    {
     "name": "stdout",
     "output_type": "stream",
     "text": [
      "33 13 1969\n"
     ]
    }
   ],
   "source": [
    "## Ejemplo 1- Fecha nacimiento en binario. \n",
    "## Fecha nacimiento, cada fecha en variable separada\n",
    "## Debe usar dos para el año, pues los octetos llegan solo hasta 1024.\n",
    "## Recuerde que puede copiar este ejemplo y cambiar los valores. \n",
    "\n",
    "d = 0b00100001\n",
    "m = 0b01101\n",
    "a1 = 0b1111101000\n",
    "a2 = 0b1111001001\n",
    "\n",
    "print( d, m, a1 + a2 ) \n"
   ]
  },
  {
   "cell_type": "code",
   "execution_count": 10,
   "metadata": {},
   "outputs": [],
   "source": [
    "## Su respuesta desde aca."
   ]
  },
  {
   "cell_type": "code",
   "execution_count": null,
   "metadata": {},
   "outputs": [],
   "source": []
  },
  {
   "cell_type": "markdown",
   "metadata": {
    "id": "GlO56Xj512EU"
   },
   "source": [
    "## B- Codificación ASCII.  \n",
    "\n",
    "**Sobre la funciones ord() y chr()**  \n",
    "\n",
    "En el computador los caracteres alfanuméricos (números, letras, símbolos, etc.) son  valores numéricos binarios, que el computador, mediante un proceso de codificación y decodificación, muestra como los símbolos que vemos por pantalla. Por ejemplo:  "
   ]
  },
  {
   "cell_type": "code",
   "execution_count": 25,
   "metadata": {},
   "outputs": [
    {
     "name": "stdout",
     "output_type": "stream",
     "text": [
      "a\n",
      "97\n"
     ]
    }
   ],
   "source": [
    "## Run para mostrar ejemplo. \n",
    "print( chr(97) )  # funcion ascii() muestra valor alfanumérico del caracter: a  \n",
    "print( ord(\"a\") ) # funcion ord() muestra valor ascii del caracter: 97\n"
   ]
  },
  {
   "cell_type": "markdown",
   "metadata": {
    "id": "EuYqe6Hz12EV"
   },
   "source": [
    "### 2– Caracter a ASCII (1 punto) \n",
    "\n",
    "**Descripción**  \n",
    "\n",
    "En esta tarea deberá codificar su nombre o apellido, pasando de carácter a ascii con la función ord(). Cada letra de la palabra en línea separada, y luego concatenar en un print(). "
   ]
  },
  {
   "cell_type": "code",
   "execution_count": 28,
   "metadata": {
    "id": "xsVKyFCN12EU",
    "outputId": "d179d9bc-30e7-4d9e-8621-74ee8d1b6560"
   },
   "outputs": [
    {
     "name": "stdout",
     "output_type": "stream",
     "text": [
      "118 101 103 103\n"
     ]
    }
   ],
   "source": [
    "## Ejemplo 2– Caracter a ASCII (1 punto) \n",
    "## Codificar de caracter alfanumérico a ascii, usando bajas o altas, esto es libre. \n",
    "## Use cuantas variables necesite según las letras de su nombre o apellido. \n",
    "## Recuerde que puede copiar este ejemplo y cambiar los valores. \n",
    "\n",
    "a = ord(\"v\")\n",
    "b = ord(\"e\")\n",
    "c = ord(\"g\")\n",
    "d = ord(\"a\")\n",
    "\n",
    "# mostrará los valores en ascii de cada carácter. \n",
    "print( a, b, c, c ) # en este caso usamos comas para separar elementos, no usamos +. \n"
   ]
  },
  {
   "cell_type": "code",
   "execution_count": null,
   "metadata": {
    "id": "DTe9hWYl12EV"
   },
   "outputs": [],
   "source": [
    "## Su respuesta desde acá.  "
   ]
  },
  {
   "cell_type": "code",
   "execution_count": null,
   "metadata": {
    "id": "VLlWPkDh12EV"
   },
   "outputs": [],
   "source": []
  },
  {
   "cell_type": "markdown",
   "metadata": {
    "id": "DiJaNqUm12EY"
   },
   "source": [
    "### 3– ASCII a Caracter (1 punto) \n",
    "\n",
    "**Descripción**  \n",
    "Codificar una de las palabras de abajo a carácter alfanumérico usando la función chr(). Cada código ascii de la palabra en línea separada, y luego concatenar en un print(). La palabra que le corresponde es según el último número de su rut (todas son de 8 letras).     \n",
    "* 0 =  97, 109, 98, 105, 101, 110, 116, 101\n",
    "* 1 = 100, 101, 114, 101, 99, 104, 111, 115\n",
    "* 2 = 101, 116, 105, 113, 117, 101, 116, 97\n",
    "* 3 = 103, 111, 98, 105, 101, 114, 110, 111\n",
    "* 4 = 104, 105, 115, 116, 111, 114, 105, 97   \n",
    "* 5 = 109, 105, 108, 108, 111, 110, 101, 115   \n",
    "* 6 = 110, 97, 99, 105, 111, 110, 97, 108   \n",
    "* 7 = 112, 114, 111, 103, 114, 97, 109, 97   \n",
    "* 8 = 114, 101, 99, 117, 101, 114, 100, 97   \n",
    "* 9 = 115, 105, 108, 101, 110, 99, 105, 111   \n",
    "* K = 116, 114, 97, 98, 97, 106, 97, 114   \n"
   ]
  },
  {
   "cell_type": "code",
   "execution_count": 30,
   "metadata": {},
   "outputs": [
    {
     "name": "stdout",
     "output_type": "stream",
     "text": [
      "p e r s o n a s\n"
     ]
    }
   ],
   "source": [
    "## Ejemplo 3– ASCII a Caracter. \n",
    "## Codificar de ascii, a alfanumérico usando chr().  \n",
    "## Recuerde que puede copiar este ejemplo y cambiar los valores. \n",
    "\n",
    "x1 = chr(112)\n",
    "x2 = chr(101)\n",
    "x3 = chr(114)\n",
    "x4 = chr(115)\n",
    "x5 = chr(111)\n",
    "x6 = chr(110)\n",
    "x7 = chr(97)\n",
    "x8 = chr(115)\n",
    "\n",
    "# mostrará valores alfanuméricos. \n",
    "print( x1, x2, x3, x4, x5, x6, x7, x8 ) # en este caso usamos comas para separar elementos, no usamos +. \n"
   ]
  },
  {
   "cell_type": "code",
   "execution_count": null,
   "metadata": {
    "id": "QHoXGFQV12EY"
   },
   "outputs": [],
   "source": [
    "## Su respuesta desde acá."
   ]
  },
  {
   "cell_type": "code",
   "execution_count": null,
   "metadata": {
    "id": "5X0maBV712EZ"
   },
   "outputs": [],
   "source": []
  },
  {
   "cell_type": "markdown",
   "metadata": {},
   "source": [
    "## C- Formatear Texto en Consola.  \n",
    "\n",
    "Cuando usamos la función print() mostramos texto en la consola, que es el espacio debajo de cada celdita, donde aparece la información de los valores que queremos mostrar después de alguna operación. \n",
    "\n",
    "Al colocar el texto (string) entre triple comillas, este queda con el formato y espacios que se usan dentro de las comillas. Pueden usar comillas simples o dobles, pero las mismas en el inicio y en el cierre. \n"
   ]
  },
  {
   "cell_type": "markdown",
   "metadata": {
    "id": "xu55AIGT12EZ"
   },
   "source": [
    "### 4- Concatenar Frase (1 punto)\n",
    "\n",
    "**Descripcion**  \n",
    "\n",
    "Construir la frase de manera que se vea el resultado esperado, e imprimirlo en consola con print(). Debe leerse \"Al sumar K y N el resultado es Z\" \n"
   ]
  },
  {
   "cell_type": "code",
   "execution_count": 32,
   "metadata": {
    "id": "mSk3xUTA12EZ",
    "outputId": "ac9f80ab-d56a-4708-d49b-df75797ad4d9"
   },
   "outputs": [
    {
     "ename": "SyntaxError",
     "evalue": "invalid syntax (2700911585.py, line 5)",
     "output_type": "error",
     "traceback": [
      "\u001b[0;36m  File \u001b[0;32m\"/var/folders/7r/btknwd8d1r7_jgpscdy1z77h0000gn/T/ipykernel_65359/2700911585.py\"\u001b[0;36m, line \u001b[0;32m5\u001b[0m\n\u001b[0;31m    K = ? # aca su edad\u001b[0m\n\u001b[0m        ^\u001b[0m\n\u001b[0;31mSyntaxError\u001b[0m\u001b[0;31m:\u001b[0m invalid syntax\n"
     ]
    }
   ],
   "source": [
    "## Ejemplo 4- Concatenar Frase  \n",
    "## Qué va en cada ? para que resulte \"Al sumar K y N el resultado es Z\"\n",
    "## Recuerde que puede copiar este ejemplo y cambiar los valores. \n",
    "\n",
    "K = ? # acá su edad\n",
    "N = ? # acá su año de nacimiento\n",
    "Z = ? + ? \n",
    "\n",
    "txt1 = \"Al sumar\"\n",
    "suma = ?\n",
    "txt3 = \"el resultado es\"\n",
    "\n",
    "print( ?, ?, ?, ?, ?, ? ) \n"
   ]
  },
  {
   "cell_type": "code",
   "execution_count": null,
   "metadata": {},
   "outputs": [],
   "source": [
    "## Su respuesta desde acá."
   ]
  },
  {
   "cell_type": "code",
   "execution_count": null,
   "metadata": {},
   "outputs": [],
   "source": []
  },
  {
   "cell_type": "markdown",
   "metadata": {
    "id": "OfBZmw4V12Ea"
   },
   "source": [
    "### 5- Texto Multilínea (1 punto). "
   ]
  },
  {
   "cell_type": "markdown",
   "metadata": {},
   "source": [
    "**Descripción** \n",
    "\n",
    "Escriba su nombre completo ( todos sus nombres y apellidos) formateado en varias líneas de manera escalonada, e imprimirlo en consola con print() \n"
   ]
  },
  {
   "cell_type": "code",
   "execution_count": 37,
   "metadata": {
    "id": "AkRE4rqC12EZ",
    "outputId": "7663f81f-d7a7-47aa-b8e6-42df3d1d31ff"
   },
   "outputs": [
    {
     "name": "stdout",
     "output_type": "stream",
     "text": [
      "Este\n",
      "    es un \n",
      "        texto\n",
      "            fome\n",
      " ...\n",
      "     y     malo\n"
     ]
    }
   ],
   "source": [
    "## Ejemplo 3B- Texto Multilíinea. \n",
    "## Se puede formatear texto usando tres comillas\n",
    "## las mismas al inicio y al final.  \n",
    "## Recuerde que puede copiar este ejemplo y cambiar los valores. \n",
    "\n",
    "lineas = \"\"\"Este\n",
    "    es un \n",
    "        texto\n",
    "            fome\n",
    " ...\n",
    "     y     malo\"\"\"\n",
    "\n",
    "print( lineas ) \n"
   ]
  },
  {
   "cell_type": "code",
   "execution_count": null,
   "metadata": {
    "id": "UA9196DD12Ea"
   },
   "outputs": [],
   "source": [
    "## Su respuesta desde acá."
   ]
  },
  {
   "cell_type": "code",
   "execution_count": null,
   "metadata": {
    "id": "e07iR5XF12Ea"
   },
   "outputs": [],
   "source": []
  },
  {
   "cell_type": "markdown",
   "metadata": {
    "id": "7Tb_75Rv12Ea"
   },
   "source": [
    "### 6– Dividir frase poema (1 punto). \n",
    "\n",
    "Deberá escoger aleatoriamente una línea del poema \"La Araucana\" (A. de Ercilla), y dividir cada línea en las diferentes palabras que la componen. Usar el caracter especial \\n en donde las letras se separan. Luego imprimirlo en consola con print(). \n",
    "\n",
    "Poema de en este sitio: https://es.wikisource.org/wiki/La_araucana_primera_parte/I \n",
    "\n",
    "El carácter \\n es invisible, separa caracteres en una nueva linea (newline). "
   ]
  },
  {
   "cell_type": "code",
   "execution_count": 41,
   "metadata": {},
   "outputs": [
    {
     "name": "stdout",
     "output_type": "stream",
     "text": [
      "No \n",
      "las \n",
      "damas, \n",
      "amor, \n",
      "no \n",
      "gentilezas\n"
     ]
    }
   ],
   "source": [
    "## Ejemplo 6– Dividir frase poema.  \n",
    "## El carácter especial \\n se usa para salto de línea, es invisible\n",
    "## No aparece en la pantalla.\n",
    "## Recuerde que puede copiar este ejemplo y cambiar los valores. \n",
    "\n",
    "araucana_linea = \"No \\nlas \\ndamas, \\namor, \\nno \\ngentilezas\"\n",
    "print(araucana_linea) \n"
   ]
  },
  {
   "cell_type": "code",
   "execution_count": null,
   "metadata": {
    "id": "vOingWmO12Ea"
   },
   "outputs": [],
   "source": [
    "## Su respuesta desde acá."
   ]
  },
  {
   "cell_type": "code",
   "execution_count": null,
   "metadata": {
    "id": "fY3sqYQ112Ea"
   },
   "outputs": [],
   "source": []
  }
 ],
 "metadata": {
  "colab": {
   "provenance": []
  },
  "kernelspec": {
   "display_name": "Python 3 (ipykernel)",
   "language": "python",
   "name": "python3"
  },
  "language_info": {
   "codemirror_mode": {
    "name": "ipython",
    "version": 3
   },
   "file_extension": ".py",
   "mimetype": "text/x-python",
   "name": "python",
   "nbconvert_exporter": "python",
   "pygments_lexer": "ipython3",
   "version": "3.9.13"
  }
 },
 "nbformat": 4,
 "nbformat_minor": 1
}
