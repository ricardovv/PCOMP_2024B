{
 "cells": [
  {
   "cell_type": "markdown",
   "metadata": {},
   "source": [
    "# M01_c02_T01 INTRODUCCION A LA PROGRAMACIÓN CON PYTHON\n",
    "\n",
    "\n",
    "### PENSAMIENTO COMPUTACIONAL 2024-B\n",
    "\n",
    "– Prof. Ricardo Vega M. - Escuela de Diseño Universidad Católica de Chile - 2024\n",
    "– Python es un lenguaje de programación interpretado cuya filosofía hace hincapié en la legibilidad de su código. Es un lenguaje interpretado, dinámico y multiplataforma. \n",
    "\n"
   ]
  },
  {
   "cell_type": "markdown",
   "metadata": {},
   "source": [
    "## 1– Variables \n",
    "Pensar en las variables como una cajita con un nombre en donde se guardan valores que se pueden usar después. "
   ]
  },
  {
   "cell_type": "code",
   "execution_count": 5,
   "metadata": {},
   "outputs": [
    {
     "name": "stdout",
     "output_type": "stream",
     "text": [
      "4\n"
     ]
    }
   ],
   "source": [
    "a = 4\n",
    "t = '5'\n",
    "print( a )\n",
    "#print( type(t) )\n"
   ]
  },
  {
   "cell_type": "code",
   "execution_count": 8,
   "metadata": {},
   "outputs": [
    {
     "name": "stdout",
     "output_type": "stream",
     "text": [
      "9\n"
     ]
    }
   ],
   "source": [
    "## Se pueden hacer operaciones aritméticas.\n",
    "a = 5\n",
    "b = 4\n",
    "c = a + b\n",
    "print( c )\n"
   ]
  },
  {
   "cell_type": "code",
   "execution_count": 9,
   "metadata": {},
   "outputs": [
    {
     "name": "stdout",
     "output_type": "stream",
     "text": [
      "3.5\n"
     ]
    }
   ],
   "source": [
    "## Se pueden reescribir los valores de las variables\n",
    "a = 1\n",
    "c = 1.5\n",
    "c = 2.5\n",
    "print( a+c )\n"
   ]
  },
  {
   "cell_type": "code",
   "execution_count": 11,
   "metadata": {},
   "outputs": [
    {
     "name": "stdout",
     "output_type": "stream",
     "text": [
      "Hola Juan 2\n"
     ]
    }
   ],
   "source": [
    "## Se pueden guardar textos también!\n",
    "c = \"Hola\"\n",
    "n = 'Juan'\n",
    "x = 2\n",
    "print( c, n, x )\n"
   ]
  },
  {
   "cell_type": "markdown",
   "metadata": {},
   "source": [
    "## 2– Decisiones, if, else, elif\n",
    "Es la manera en que el comoutador toma desiciones, preguntando si un valor es tal o cual."
   ]
  },
  {
   "cell_type": "code",
   "execution_count": 13,
   "metadata": {},
   "outputs": [
    {
     "name": "stdout",
     "output_type": "stream",
     "text": [
      "a NO vale 5\n"
     ]
    }
   ],
   "source": [
    "## Probar cambiando el valor de a\n",
    "a = 3\n",
    "\n",
    "if a == 5:\n",
    "    print(\"a vale 5\")\n",
    "else:\n",
    "    print(\"a NO vale 5\")\n"
   ]
  },
  {
   "cell_type": "markdown",
   "metadata": {},
   "source": [
    "## 3– Ciclos \n",
    "Permite repetir instrucciones según un límite."
   ]
  },
  {
   "cell_type": "code",
   "execution_count": 1,
   "metadata": {},
   "outputs": [
    {
     "name": "stdout",
     "output_type": "stream",
     "text": [
      "i Vale:  0\n",
      "i Vale:  1\n",
      "i Vale:  2\n",
      "i Vale:  3\n",
      "i Vale:  4\n",
      "i Vale:  5\n"
     ]
    }
   ],
   "source": [
    "## Para cada elemento i, entre 0 y 6, se hace lo siguiente... \n",
    "for i in range( 6 ):\n",
    "    print( \"i Vale: \", i )\n",
    "    "
   ]
  },
  {
   "cell_type": "markdown",
   "metadata": {},
   "source": [
    "## 4– Listas o Arrays \n",
    "Nos sirve para tener una lista de muchos valores guardados con un mismo nombre."
   ]
  },
  {
   "cell_type": "code",
   "execution_count": 14,
   "metadata": {},
   "outputs": [
    {
     "name": "stdout",
     "output_type": "stream",
     "text": [
      "Elvira\n"
     ]
    }
   ],
   "source": [
    "## En este caso son textos que van entre comillas. \n",
    "nombres = ['Ana','Beatriz','Claudia','Diana','Elvira','Fernanda','Gabriela']\n",
    "print( nombres[ 4 ] ) ## cambiar valor entre los paréntesis cuadrados para acceder a otro nombre de la lista \n"
   ]
  },
  {
   "cell_type": "markdown",
   "metadata": {},
   "source": [
    "## 5– Recorrer listas\n",
    "Se puede recorrer una lista con un ciclo."
   ]
  },
  {
   "cell_type": "code",
   "execution_count": 6,
   "metadata": {},
   "outputs": [
    {
     "name": "stdout",
     "output_type": "stream",
     "text": [
      "0 Ana\n",
      "1 Beatriz\n",
      "2 Claudia\n",
      "3 Diana\n",
      "4 Elvira\n",
      "5 Fernanda\n",
      "6 Gabriela\n"
     ]
    }
   ],
   "source": [
    "## Toma cada elemento n de la lista nombres  \n",
    "for n in range( len(nombres) ): ## len(nombres) indica la cantidad de elementos de la lista nombres  \n",
    "    print( n, nombres[ n ] )\n",
    "    "
   ]
  },
  {
   "cell_type": "code",
   "execution_count": 7,
   "metadata": {},
   "outputs": [
    {
     "name": "stdout",
     "output_type": "stream",
     "text": [
      "Ana\n",
      "Beatriz\n",
      "Claudia\n",
      "Diana\n",
      "Elvira\n",
      "Fernanda\n",
      "Gabriela\n"
     ]
    }
   ],
   "source": [
    "## Toma cada elemento n de la lista nombres  \n",
    "for n in ( nombres ): ## len(nombres) indica la cantidad de elementos de la lista nombres  \n",
    "    print( n )\n",
    "    "
   ]
  },
  {
   "cell_type": "code",
   "execution_count": 9,
   "metadata": {},
   "outputs": [
    {
     "name": "stdout",
     "output_type": "stream",
     "text": [
      "23\n",
      "18\n",
      "54\n",
      "29\n",
      "43\n",
      "41\n",
      "33\n"
     ]
    }
   ],
   "source": [
    "## Podemos tener listas de números también!\n",
    "edades = [23,18,54,29,43,41,33]\n",
    "\n",
    "for e in range( len(edades) ): ## len(nombres) indica la cantidad de elementos de la lista nombres  \n",
    "    print( edades[ e ] )\n",
    "    "
   ]
  },
  {
   "cell_type": "markdown",
   "metadata": {},
   "source": [
    "## Ejercicios sugeridos: \n",
    "– Hacer un array con nombre de sus amigos, familia, etc. y recorrerlo (como en 4 y 5).  \n",
    "– Hacer un array con edades de sus amigos, familia, etc., recorrerlo, y sumarlo (como en 4 y 5).  \n",
    "Para sumar debe cread una variable donde ir sumando los valores.  \n",
    "\n",
    "Recordar que debe crear las celdas correspondientes. \n"
   ]
  },
  {
   "cell_type": "code",
   "execution_count": null,
   "metadata": {},
   "outputs": [],
   "source": []
  }
 ],
 "metadata": {
  "kernelspec": {
   "display_name": "Python 3 (ipykernel)",
   "language": "python",
   "name": "python3"
  },
  "language_info": {
   "codemirror_mode": {
    "name": "ipython",
    "version": 3
   },
   "file_extension": ".py",
   "mimetype": "text/x-python",
   "name": "python",
   "nbconvert_exporter": "python",
   "pygments_lexer": "ipython3",
   "version": "3.9.13"
  }
 },
 "nbformat": 4,
 "nbformat_minor": 2
}
